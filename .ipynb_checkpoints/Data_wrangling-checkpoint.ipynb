{
 "cells": [
  {
   "cell_type": "markdown",
   "metadata": {},
   "source": [
    "Take a look at the data and put it in a convenient format."
   ]
  },
  {
   "cell_type": "code",
   "execution_count": 161,
   "metadata": {
    "collapsed": true
   },
   "outputs": [],
   "source": [
    "import os\n",
    "import matplotlib\n",
    "import numpy as np\n",
    "import pandas as pd\n",
    "import matplotlib.pyplot as plt\n",
    "import matplotlib.patches as mpatches\n",
    "import time\n",
    "import datetime\n",
    "%matplotlib inline  "
   ]
  },
  {
   "cell_type": "code",
   "execution_count": 6,
   "metadata": {
    "collapsed": true
   },
   "outputs": [],
   "source": [
    "data_dir = '../2017_NYISO_LBMPs/'"
   ]
  },
  {
   "cell_type": "code",
   "execution_count": 9,
   "metadata": {
    "collapsed": false,
    "scrolled": false
   },
   "outputs": [],
   "source": [
    "# list(os.walk(data_dir))"
   ]
  },
  {
   "cell_type": "markdown",
   "metadata": {},
   "source": [
    "Get a sorted list of directories"
   ]
  },
  {
   "cell_type": "code",
   "execution_count": 25,
   "metadata": {
    "collapsed": false
   },
   "outputs": [
    {
     "data": {
      "text/plain": [
       "['.DS_Store',\n",
       " '20170101damlbmp_zone_csv',\n",
       " '20170201damlbmp_zone_csv',\n",
       " '20170301damlbmp_zone_csv',\n",
       " '20170401damlbmp_zone_csv',\n",
       " '20170501damlbmp_zone_csv',\n",
       " '20170601damlbmp_zone_csv',\n",
       " '20170701damlbmp_zone_csv',\n",
       " '20170801damlbmp_zone_csv',\n",
       " '20170901damlbmp_zone_csv',\n",
       " '20171001damlbmp_zone_csv',\n",
       " '20171101damlbmp_zone_csv',\n",
       " '20171201damlbmp_zone_csv']"
      ]
     },
     "execution_count": 25,
     "metadata": {},
     "output_type": "execute_result"
    }
   ],
   "source": [
    "dir_list = os.listdir(data_dir)\n",
    "dir_list.sort()\n",
    "dir_list"
   ]
  },
  {
   "cell_type": "code",
   "execution_count": 27,
   "metadata": {
    "collapsed": false
   },
   "outputs": [
    {
     "data": {
      "text/plain": [
       "'.DS_Store'"
      ]
     },
     "execution_count": 27,
     "metadata": {},
     "output_type": "execute_result"
    }
   ],
   "source": [
    "#Pop the first item (invisible file .DS_Store used by Mac OS)\n",
    "dir_list.pop(0)"
   ]
  },
  {
   "cell_type": "code",
   "execution_count": 28,
   "metadata": {
    "collapsed": false
   },
   "outputs": [
    {
     "data": {
      "text/plain": [
       "['20170101damlbmp_zone_csv',\n",
       " '20170201damlbmp_zone_csv',\n",
       " '20170301damlbmp_zone_csv',\n",
       " '20170401damlbmp_zone_csv',\n",
       " '20170501damlbmp_zone_csv',\n",
       " '20170601damlbmp_zone_csv',\n",
       " '20170701damlbmp_zone_csv',\n",
       " '20170801damlbmp_zone_csv',\n",
       " '20170901damlbmp_zone_csv',\n",
       " '20171001damlbmp_zone_csv',\n",
       " '20171101damlbmp_zone_csv',\n",
       " '20171201damlbmp_zone_csv']"
      ]
     },
     "execution_count": 28,
     "metadata": {},
     "output_type": "execute_result"
    }
   ],
   "source": [
    "dir_list"
   ]
  },
  {
   "cell_type": "markdown",
   "metadata": {},
   "source": [
    "Look in one of these"
   ]
  },
  {
   "cell_type": "code",
   "execution_count": 30,
   "metadata": {
    "collapsed": false
   },
   "outputs": [
    {
     "data": {
      "text/plain": [
       "['.DS_Store',\n",
       " '20170101damlbmp_zone.csv',\n",
       " '20170102damlbmp_zone.csv',\n",
       " '20170103damlbmp_zone.csv',\n",
       " '20170104damlbmp_zone.csv',\n",
       " '20170105damlbmp_zone.csv',\n",
       " '20170106damlbmp_zone.csv',\n",
       " '20170107damlbmp_zone.csv',\n",
       " '20170108damlbmp_zone.csv',\n",
       " '20170109damlbmp_zone.csv',\n",
       " '20170110damlbmp_zone.csv',\n",
       " '20170111damlbmp_zone.csv',\n",
       " '20170112damlbmp_zone.csv',\n",
       " '20170113damlbmp_zone.csv',\n",
       " '20170114damlbmp_zone.csv',\n",
       " '20170115damlbmp_zone.csv',\n",
       " '20170116damlbmp_zone.csv',\n",
       " '20170117damlbmp_zone.csv',\n",
       " '20170118damlbmp_zone.csv',\n",
       " '20170119damlbmp_zone.csv',\n",
       " '20170120damlbmp_zone.csv',\n",
       " '20170121damlbmp_zone.csv',\n",
       " '20170122damlbmp_zone.csv',\n",
       " '20170123damlbmp_zone.csv',\n",
       " '20170124damlbmp_zone.csv',\n",
       " '20170125damlbmp_zone.csv',\n",
       " '20170126damlbmp_zone.csv',\n",
       " '20170127damlbmp_zone.csv',\n",
       " '20170128damlbmp_zone.csv',\n",
       " '20170129damlbmp_zone.csv',\n",
       " '20170130damlbmp_zone.csv',\n",
       " '20170131damlbmp_zone.csv']"
      ]
     },
     "execution_count": 30,
     "metadata": {},
     "output_type": "execute_result"
    }
   ],
   "source": [
    "sample_dir_list = os.listdir(data_dir + '/' + dir_list[0])\n",
    "sample_dir_list.sort()\n",
    "sample_dir_list"
   ]
  },
  {
   "cell_type": "code",
   "execution_count": 31,
   "metadata": {
    "collapsed": false
   },
   "outputs": [
    {
     "data": {
      "text/plain": [
       "'.DS_Store'"
      ]
     },
     "execution_count": 31,
     "metadata": {},
     "output_type": "execute_result"
    }
   ],
   "source": [
    "sample_dir_list.pop(0)"
   ]
  },
  {
   "cell_type": "markdown",
   "metadata": {},
   "source": [
    "Observation shows that the data directory contains a separate CSV file for each day of 2017, with three components of LBMP (Location Based Marginal Price) for every hour across mutiple zones. According to https://www.pjm.com/-/media/training/nerc-certifications/markets-exam-materials/mkt-optimization-wkshp/locational-marginal-pricing-components.ashx?la=en , the system marginal price, congestion component, and marginal loss component are added together to calculate the LBMP, which is the price paid by loads. I will add a column with this information for inspection here, and clarify this approach with the business."
   ]
  },
  {
   "cell_type": "markdown",
   "metadata": {},
   "source": [
    "Test load and concatenate two of them to a pandas DF, then automate this for all. Use a multiindex on the time stamp and zone name."
   ]
  },
  {
   "cell_type": "code",
   "execution_count": 37,
   "metadata": {
    "collapsed": false
   },
   "outputs": [],
   "source": [
    "df_1 = pd.read_csv(data_dir + '/' + dir_list[0] + '/' + sample_dir_list[0],\n",
    "                            index_col=['Time Stamp', 'Name'])"
   ]
  },
  {
   "cell_type": "code",
   "execution_count": 39,
   "metadata": {
    "collapsed": false
   },
   "outputs": [
    {
     "data": {
      "text/html": [
       "<div>\n",
       "<style>\n",
       "    .dataframe thead tr:only-child th {\n",
       "        text-align: right;\n",
       "    }\n",
       "\n",
       "    .dataframe thead th {\n",
       "        text-align: left;\n",
       "    }\n",
       "\n",
       "    .dataframe tbody tr th {\n",
       "        vertical-align: top;\n",
       "    }\n",
       "</style>\n",
       "<table border=\"1\" class=\"dataframe\">\n",
       "  <thead>\n",
       "    <tr style=\"text-align: right;\">\n",
       "      <th></th>\n",
       "      <th></th>\n",
       "      <th>PTID</th>\n",
       "      <th>LBMP ($/MWHr)</th>\n",
       "      <th>Marginal Cost Losses ($/MWHr)</th>\n",
       "      <th>Marginal Cost Congestion ($/MWHr)</th>\n",
       "    </tr>\n",
       "    <tr>\n",
       "      <th>Time Stamp</th>\n",
       "      <th>Name</th>\n",
       "      <th></th>\n",
       "      <th></th>\n",
       "      <th></th>\n",
       "      <th></th>\n",
       "    </tr>\n",
       "  </thead>\n",
       "  <tbody>\n",
       "    <tr>\n",
       "      <th rowspan=\"5\" valign=\"top\">01/01/2017 00:00</th>\n",
       "      <th>CAPITL</th>\n",
       "      <td>61757</td>\n",
       "      <td>42.06</td>\n",
       "      <td>0.68</td>\n",
       "      <td>-29.05</td>\n",
       "    </tr>\n",
       "    <tr>\n",
       "      <th>CENTRL</th>\n",
       "      <td>61754</td>\n",
       "      <td>15.50</td>\n",
       "      <td>0.20</td>\n",
       "      <td>-2.98</td>\n",
       "    </tr>\n",
       "    <tr>\n",
       "      <th>DUNWOD</th>\n",
       "      <td>61760</td>\n",
       "      <td>33.52</td>\n",
       "      <td>1.13</td>\n",
       "      <td>-20.06</td>\n",
       "    </tr>\n",
       "    <tr>\n",
       "      <th>GENESE</th>\n",
       "      <td>61753</td>\n",
       "      <td>14.67</td>\n",
       "      <td>0.04</td>\n",
       "      <td>-2.31</td>\n",
       "    </tr>\n",
       "    <tr>\n",
       "      <th>H Q</th>\n",
       "      <td>61844</td>\n",
       "      <td>11.89</td>\n",
       "      <td>-0.43</td>\n",
       "      <td>0.00</td>\n",
       "    </tr>\n",
       "  </tbody>\n",
       "</table>\n",
       "</div>"
      ],
      "text/plain": [
       "                          PTID  LBMP ($/MWHr)  Marginal Cost Losses ($/MWHr)  \\\n",
       "Time Stamp       Name                                                          \n",
       "01/01/2017 00:00 CAPITL  61757          42.06                           0.68   \n",
       "                 CENTRL  61754          15.50                           0.20   \n",
       "                 DUNWOD  61760          33.52                           1.13   \n",
       "                 GENESE  61753          14.67                           0.04   \n",
       "                 H Q     61844          11.89                          -0.43   \n",
       "\n",
       "                         Marginal Cost Congestion ($/MWHr)  \n",
       "Time Stamp       Name                                       \n",
       "01/01/2017 00:00 CAPITL                             -29.05  \n",
       "                 CENTRL                              -2.98  \n",
       "                 DUNWOD                             -20.06  \n",
       "                 GENESE                              -2.31  \n",
       "                 H Q                                  0.00  "
      ]
     },
     "execution_count": 39,
     "metadata": {},
     "output_type": "execute_result"
    }
   ],
   "source": [
    "df_1.head()"
   ]
  },
  {
   "cell_type": "code",
   "execution_count": 41,
   "metadata": {
    "collapsed": false
   },
   "outputs": [
    {
     "name": "stdout",
     "output_type": "stream",
     "text": [
      "<class 'pandas.core.frame.DataFrame'>\n",
      "MultiIndex: 360 entries, (01/01/2017 00:00, CAPITL) to (01/01/2017 23:00, WEST)\n",
      "Data columns (total 4 columns):\n",
      "PTID                                 360 non-null int64\n",
      "LBMP ($/MWHr)                        360 non-null float64\n",
      "Marginal Cost Losses ($/MWHr)        360 non-null float64\n",
      "Marginal Cost Congestion ($/MWHr)    360 non-null float64\n",
      "dtypes: float64(3), int64(1)\n",
      "memory usage: 12.3+ KB\n"
     ]
    }
   ],
   "source": [
    "df_1.info()"
   ]
  },
  {
   "cell_type": "markdown",
   "metadata": {},
   "source": [
    "How many unique zones are there, and what are they?"
   ]
  },
  {
   "cell_type": "code",
   "execution_count": 48,
   "metadata": {
    "collapsed": false
   },
   "outputs": [],
   "source": [
    "unique_names = np.unique(df_1.index.get_level_values('Name').tolist())"
   ]
  },
  {
   "cell_type": "code",
   "execution_count": 49,
   "metadata": {
    "collapsed": false
   },
   "outputs": [
    {
     "data": {
      "text/plain": [
       "15"
      ]
     },
     "execution_count": 49,
     "metadata": {},
     "output_type": "execute_result"
    }
   ],
   "source": [
    "len(unique_names)"
   ]
  },
  {
   "cell_type": "code",
   "execution_count": 50,
   "metadata": {
    "collapsed": false
   },
   "outputs": [
    {
     "data": {
      "text/plain": [
       "array(['CAPITL', 'CENTRL', 'DUNWOD', 'GENESE', 'H Q', 'HUD VL', 'LONGIL',\n",
       "       'MHK VL', 'MILLWD', 'N.Y.C.', 'NORTH', 'NPX', 'O H', 'PJM', 'WEST'],\n",
       "      dtype='|S6')"
      ]
     },
     "execution_count": 50,
     "metadata": {},
     "output_type": "execute_result"
    }
   ],
   "source": [
    "unique_names"
   ]
  },
  {
   "cell_type": "markdown",
   "metadata": {},
   "source": [
    "Show how to select out data for a given zone."
   ]
  },
  {
   "cell_type": "code",
   "execution_count": 54,
   "metadata": {
    "collapsed": false
   },
   "outputs": [
    {
     "data": {
      "text/html": [
       "<div>\n",
       "<style>\n",
       "    .dataframe thead tr:only-child th {\n",
       "        text-align: right;\n",
       "    }\n",
       "\n",
       "    .dataframe thead th {\n",
       "        text-align: left;\n",
       "    }\n",
       "\n",
       "    .dataframe tbody tr th {\n",
       "        vertical-align: top;\n",
       "    }\n",
       "</style>\n",
       "<table border=\"1\" class=\"dataframe\">\n",
       "  <thead>\n",
       "    <tr style=\"text-align: right;\">\n",
       "      <th></th>\n",
       "      <th>PTID</th>\n",
       "      <th>LBMP ($/MWHr)</th>\n",
       "      <th>Marginal Cost Losses ($/MWHr)</th>\n",
       "      <th>Marginal Cost Congestion ($/MWHr)</th>\n",
       "    </tr>\n",
       "    <tr>\n",
       "      <th>Time Stamp</th>\n",
       "      <th></th>\n",
       "      <th></th>\n",
       "      <th></th>\n",
       "      <th></th>\n",
       "    </tr>\n",
       "  </thead>\n",
       "  <tbody>\n",
       "    <tr>\n",
       "      <th>01/01/2017 00:00</th>\n",
       "      <td>61761</td>\n",
       "      <td>33.60</td>\n",
       "      <td>1.21</td>\n",
       "      <td>-20.07</td>\n",
       "    </tr>\n",
       "    <tr>\n",
       "      <th>01/01/2017 01:00</th>\n",
       "      <td>61761</td>\n",
       "      <td>32.05</td>\n",
       "      <td>0.81</td>\n",
       "      <td>-22.89</td>\n",
       "    </tr>\n",
       "    <tr>\n",
       "      <th>01/01/2017 02:00</th>\n",
       "      <td>61761</td>\n",
       "      <td>29.23</td>\n",
       "      <td>0.65</td>\n",
       "      <td>-21.65</td>\n",
       "    </tr>\n",
       "    <tr>\n",
       "      <th>01/01/2017 03:00</th>\n",
       "      <td>61761</td>\n",
       "      <td>25.02</td>\n",
       "      <td>0.67</td>\n",
       "      <td>-17.41</td>\n",
       "    </tr>\n",
       "    <tr>\n",
       "      <th>01/01/2017 04:00</th>\n",
       "      <td>61761</td>\n",
       "      <td>26.94</td>\n",
       "      <td>0.66</td>\n",
       "      <td>-19.02</td>\n",
       "    </tr>\n",
       "    <tr>\n",
       "      <th>01/01/2017 05:00</th>\n",
       "      <td>61761</td>\n",
       "      <td>25.62</td>\n",
       "      <td>0.71</td>\n",
       "      <td>-17.07</td>\n",
       "    </tr>\n",
       "    <tr>\n",
       "      <th>01/01/2017 06:00</th>\n",
       "      <td>61761</td>\n",
       "      <td>24.03</td>\n",
       "      <td>0.98</td>\n",
       "      <td>-12.86</td>\n",
       "    </tr>\n",
       "    <tr>\n",
       "      <th>01/01/2017 07:00</th>\n",
       "      <td>61761</td>\n",
       "      <td>27.36</td>\n",
       "      <td>0.94</td>\n",
       "      <td>-16.42</td>\n",
       "    </tr>\n",
       "    <tr>\n",
       "      <th>01/01/2017 08:00</th>\n",
       "      <td>61761</td>\n",
       "      <td>30.58</td>\n",
       "      <td>1.30</td>\n",
       "      <td>-16.50</td>\n",
       "    </tr>\n",
       "    <tr>\n",
       "      <th>01/01/2017 09:00</th>\n",
       "      <td>61761</td>\n",
       "      <td>35.40</td>\n",
       "      <td>1.56</td>\n",
       "      <td>-18.88</td>\n",
       "    </tr>\n",
       "    <tr>\n",
       "      <th>01/01/2017 10:00</th>\n",
       "      <td>61761</td>\n",
       "      <td>31.50</td>\n",
       "      <td>1.78</td>\n",
       "      <td>-12.74</td>\n",
       "    </tr>\n",
       "    <tr>\n",
       "      <th>01/01/2017 11:00</th>\n",
       "      <td>61761</td>\n",
       "      <td>30.45</td>\n",
       "      <td>1.98</td>\n",
       "      <td>-9.44</td>\n",
       "    </tr>\n",
       "    <tr>\n",
       "      <th>01/01/2017 12:00</th>\n",
       "      <td>61761</td>\n",
       "      <td>31.78</td>\n",
       "      <td>2.06</td>\n",
       "      <td>-10.69</td>\n",
       "    </tr>\n",
       "    <tr>\n",
       "      <th>01/01/2017 13:00</th>\n",
       "      <td>61761</td>\n",
       "      <td>29.96</td>\n",
       "      <td>2.05</td>\n",
       "      <td>-8.55</td>\n",
       "    </tr>\n",
       "    <tr>\n",
       "      <th>01/01/2017 14:00</th>\n",
       "      <td>61761</td>\n",
       "      <td>30.08</td>\n",
       "      <td>2.18</td>\n",
       "      <td>-7.35</td>\n",
       "    </tr>\n",
       "    <tr>\n",
       "      <th>01/01/2017 15:00</th>\n",
       "      <td>61761</td>\n",
       "      <td>30.09</td>\n",
       "      <td>2.47</td>\n",
       "      <td>-5.15</td>\n",
       "    </tr>\n",
       "    <tr>\n",
       "      <th>01/01/2017 16:00</th>\n",
       "      <td>61761</td>\n",
       "      <td>35.30</td>\n",
       "      <td>3.42</td>\n",
       "      <td>-0.75</td>\n",
       "    </tr>\n",
       "    <tr>\n",
       "      <th>01/01/2017 17:00</th>\n",
       "      <td>61761</td>\n",
       "      <td>45.54</td>\n",
       "      <td>4.18</td>\n",
       "      <td>0.00</td>\n",
       "    </tr>\n",
       "    <tr>\n",
       "      <th>01/01/2017 18:00</th>\n",
       "      <td>61761</td>\n",
       "      <td>40.93</td>\n",
       "      <td>3.99</td>\n",
       "      <td>0.00</td>\n",
       "    </tr>\n",
       "    <tr>\n",
       "      <th>01/01/2017 19:00</th>\n",
       "      <td>61761</td>\n",
       "      <td>39.60</td>\n",
       "      <td>3.92</td>\n",
       "      <td>0.00</td>\n",
       "    </tr>\n",
       "    <tr>\n",
       "      <th>01/01/2017 20:00</th>\n",
       "      <td>61761</td>\n",
       "      <td>37.35</td>\n",
       "      <td>3.74</td>\n",
       "      <td>-0.76</td>\n",
       "    </tr>\n",
       "    <tr>\n",
       "      <th>01/01/2017 21:00</th>\n",
       "      <td>61761</td>\n",
       "      <td>35.54</td>\n",
       "      <td>3.05</td>\n",
       "      <td>-5.47</td>\n",
       "    </tr>\n",
       "    <tr>\n",
       "      <th>01/01/2017 22:00</th>\n",
       "      <td>61761</td>\n",
       "      <td>31.84</td>\n",
       "      <td>2.50</td>\n",
       "      <td>-5.98</td>\n",
       "    </tr>\n",
       "    <tr>\n",
       "      <th>01/01/2017 23:00</th>\n",
       "      <td>61761</td>\n",
       "      <td>29.81</td>\n",
       "      <td>2.38</td>\n",
       "      <td>-2.67</td>\n",
       "    </tr>\n",
       "  </tbody>\n",
       "</table>\n",
       "</div>"
      ],
      "text/plain": [
       "                   PTID  LBMP ($/MWHr)  Marginal Cost Losses ($/MWHr)  \\\n",
       "Time Stamp                                                              \n",
       "01/01/2017 00:00  61761          33.60                           1.21   \n",
       "01/01/2017 01:00  61761          32.05                           0.81   \n",
       "01/01/2017 02:00  61761          29.23                           0.65   \n",
       "01/01/2017 03:00  61761          25.02                           0.67   \n",
       "01/01/2017 04:00  61761          26.94                           0.66   \n",
       "01/01/2017 05:00  61761          25.62                           0.71   \n",
       "01/01/2017 06:00  61761          24.03                           0.98   \n",
       "01/01/2017 07:00  61761          27.36                           0.94   \n",
       "01/01/2017 08:00  61761          30.58                           1.30   \n",
       "01/01/2017 09:00  61761          35.40                           1.56   \n",
       "01/01/2017 10:00  61761          31.50                           1.78   \n",
       "01/01/2017 11:00  61761          30.45                           1.98   \n",
       "01/01/2017 12:00  61761          31.78                           2.06   \n",
       "01/01/2017 13:00  61761          29.96                           2.05   \n",
       "01/01/2017 14:00  61761          30.08                           2.18   \n",
       "01/01/2017 15:00  61761          30.09                           2.47   \n",
       "01/01/2017 16:00  61761          35.30                           3.42   \n",
       "01/01/2017 17:00  61761          45.54                           4.18   \n",
       "01/01/2017 18:00  61761          40.93                           3.99   \n",
       "01/01/2017 19:00  61761          39.60                           3.92   \n",
       "01/01/2017 20:00  61761          37.35                           3.74   \n",
       "01/01/2017 21:00  61761          35.54                           3.05   \n",
       "01/01/2017 22:00  61761          31.84                           2.50   \n",
       "01/01/2017 23:00  61761          29.81                           2.38   \n",
       "\n",
       "                  Marginal Cost Congestion ($/MWHr)  \n",
       "Time Stamp                                           \n",
       "01/01/2017 00:00                             -20.07  \n",
       "01/01/2017 01:00                             -22.89  \n",
       "01/01/2017 02:00                             -21.65  \n",
       "01/01/2017 03:00                             -17.41  \n",
       "01/01/2017 04:00                             -19.02  \n",
       "01/01/2017 05:00                             -17.07  \n",
       "01/01/2017 06:00                             -12.86  \n",
       "01/01/2017 07:00                             -16.42  \n",
       "01/01/2017 08:00                             -16.50  \n",
       "01/01/2017 09:00                             -18.88  \n",
       "01/01/2017 10:00                             -12.74  \n",
       "01/01/2017 11:00                              -9.44  \n",
       "01/01/2017 12:00                             -10.69  \n",
       "01/01/2017 13:00                              -8.55  \n",
       "01/01/2017 14:00                              -7.35  \n",
       "01/01/2017 15:00                              -5.15  \n",
       "01/01/2017 16:00                              -0.75  \n",
       "01/01/2017 17:00                               0.00  \n",
       "01/01/2017 18:00                               0.00  \n",
       "01/01/2017 19:00                               0.00  \n",
       "01/01/2017 20:00                              -0.76  \n",
       "01/01/2017 21:00                              -5.47  \n",
       "01/01/2017 22:00                              -5.98  \n",
       "01/01/2017 23:00                              -2.67  "
      ]
     },
     "execution_count": 54,
     "metadata": {},
     "output_type": "execute_result"
    }
   ],
   "source": [
    "df_1.xs('N.Y.C.', level='Name')"
   ]
  },
  {
   "cell_type": "code",
   "execution_count": 55,
   "metadata": {
    "collapsed": true
   },
   "outputs": [],
   "source": [
    "df_2 = pd.read_csv(data_dir + '/' + dir_list[0] + '/' + sample_dir_list[1],\n",
    "                            index_col=['Time Stamp', 'Name'])"
   ]
  },
  {
   "cell_type": "code",
   "execution_count": 56,
   "metadata": {
    "collapsed": false
   },
   "outputs": [
    {
     "name": "stdout",
     "output_type": "stream",
     "text": [
      "<class 'pandas.core.frame.DataFrame'>\n",
      "MultiIndex: 360 entries, (01/02/2017 00:00, CAPITL) to (01/02/2017 23:00, WEST)\n",
      "Data columns (total 4 columns):\n",
      "PTID                                 360 non-null int64\n",
      "LBMP ($/MWHr)                        360 non-null float64\n",
      "Marginal Cost Losses ($/MWHr)        360 non-null float64\n",
      "Marginal Cost Congestion ($/MWHr)    360 non-null float64\n",
      "dtypes: float64(3), int64(1)\n",
      "memory usage: 12.3+ KB\n"
     ]
    }
   ],
   "source": [
    "df_2.info()"
   ]
  },
  {
   "cell_type": "markdown",
   "metadata": {},
   "source": [
    "Concatenate"
   ]
  },
  {
   "cell_type": "code",
   "execution_count": 58,
   "metadata": {
    "collapsed": false
   },
   "outputs": [],
   "source": [
    "new_df = pd.concat([df_1, df_2])"
   ]
  },
  {
   "cell_type": "code",
   "execution_count": 59,
   "metadata": {
    "collapsed": false
   },
   "outputs": [
    {
     "name": "stdout",
     "output_type": "stream",
     "text": [
      "<class 'pandas.core.frame.DataFrame'>\n",
      "MultiIndex: 720 entries, (01/01/2017 00:00, CAPITL) to (01/02/2017 23:00, WEST)\n",
      "Data columns (total 4 columns):\n",
      "PTID                                 720 non-null int64\n",
      "LBMP ($/MWHr)                        720 non-null float64\n",
      "Marginal Cost Losses ($/MWHr)        720 non-null float64\n",
      "Marginal Cost Congestion ($/MWHr)    720 non-null float64\n",
      "dtypes: float64(3), int64(1)\n",
      "memory usage: 24.5+ KB\n"
     ]
    }
   ],
   "source": [
    "new_df.info()"
   ]
  },
  {
   "cell_type": "code",
   "execution_count": 61,
   "metadata": {
    "collapsed": false
   },
   "outputs": [
    {
     "data": {
      "text/plain": [
       "(360, 4)"
      ]
     },
     "execution_count": 61,
     "metadata": {},
     "output_type": "execute_result"
    }
   ],
   "source": [
    "df_1.shape"
   ]
  },
  {
   "cell_type": "code",
   "execution_count": 63,
   "metadata": {
    "collapsed": false
   },
   "outputs": [
    {
     "data": {
      "text/plain": [
       "(360, 4)"
      ]
     },
     "execution_count": 63,
     "metadata": {},
     "output_type": "execute_result"
    }
   ],
   "source": [
    "df_2.shape"
   ]
  },
  {
   "cell_type": "code",
   "execution_count": 60,
   "metadata": {
    "collapsed": false
   },
   "outputs": [
    {
     "data": {
      "text/plain": [
       "(720, 4)"
      ]
     },
     "execution_count": 60,
     "metadata": {},
     "output_type": "execute_result"
    }
   ],
   "source": [
    "new_df.shape"
   ]
  },
  {
   "cell_type": "markdown",
   "metadata": {},
   "source": [
    "Automate this approach to load all data."
   ]
  },
  {
   "cell_type": "code",
   "execution_count": 143,
   "metadata": {
    "collapsed": false
   },
   "outputs": [
    {
     "name": "stdout",
     "output_type": "stream",
     "text": [
      ".DS_Store\n",
      ".DS_Store\n",
      "5.40638494492 seconds run time\n"
     ]
    }
   ],
   "source": [
    "tic = time.time()\n",
    "#count loaded files\n",
    "file_counter = 0\n",
    "\n",
    "#For each subdirectory in the parent directory\n",
    "for this_sub_dir in dir_list:\n",
    "    #List the files\n",
    "    this_sub_dir_list = os.listdir(data_dir + '/' + this_sub_dir)\n",
    "    #Sort the list\n",
    "    this_sub_dir_list.sort()\n",
    "    #Delete the first file from the list if it starts with '.'\n",
    "    if this_sub_dir_list[0][0] == '.':\n",
    "        print(this_sub_dir_list.pop(0))\n",
    "    #For each file in the subdirectory\n",
    "    for this_file in this_sub_dir_list:\n",
    "        #Load the contents into a DataFrame\n",
    "        this_df = pd.read_csv(data_dir + '/' + this_sub_dir + '/' + this_file,\n",
    "                            index_col=['Time Stamp', 'Name'])\n",
    "        #Concatenate with existing data if past first file\n",
    "        if file_counter == 0:\n",
    "            all_data = this_df.copy()\n",
    "        else:\n",
    "            all_data = pd.concat([all_data, this_df])\n",
    "        \n",
    "        file_counter += 1\n",
    "toc = time.time()\n",
    "print(str(toc-tic) + ' seconds run time')"
   ]
  },
  {
   "cell_type": "markdown",
   "metadata": {},
   "source": [
    "Check that 365 files were loaded"
   ]
  },
  {
   "cell_type": "code",
   "execution_count": 145,
   "metadata": {
    "collapsed": false
   },
   "outputs": [
    {
     "data": {
      "text/plain": [
       "365"
      ]
     },
     "execution_count": 145,
     "metadata": {},
     "output_type": "execute_result"
    }
   ],
   "source": [
    "file_counter"
   ]
  },
  {
   "cell_type": "code",
   "execution_count": 146,
   "metadata": {
    "collapsed": false
   },
   "outputs": [
    {
     "data": {
      "text/plain": [
       "(131400, 4)"
      ]
     },
     "execution_count": 146,
     "metadata": {},
     "output_type": "execute_result"
    }
   ],
   "source": [
    "all_data.shape"
   ]
  },
  {
   "cell_type": "markdown",
   "metadata": {},
   "source": [
    "Number of rows should be # of zones times 24 hours a day times 365 days a year:"
   ]
  },
  {
   "cell_type": "code",
   "execution_count": 147,
   "metadata": {
    "collapsed": false
   },
   "outputs": [
    {
     "data": {
      "text/plain": [
       "True"
      ]
     },
     "execution_count": 147,
     "metadata": {},
     "output_type": "execute_result"
    }
   ],
   "source": [
    "15*24*365 == all_data.shape[0]"
   ]
  },
  {
   "cell_type": "markdown",
   "metadata": {},
   "source": [
    "Calculate the LBMP and characterize it. [note, don't think this is necessary]"
   ]
  },
  {
   "cell_type": "code",
   "execution_count": 148,
   "metadata": {
    "collapsed": false
   },
   "outputs": [
    {
     "data": {
      "text/plain": [
       "Index([u'PTID', u'LBMP ($/MWHr)', u'Marginal Cost Losses ($/MWHr)',\n",
       "       u'Marginal Cost Congestion ($/MWHr)'],\n",
       "      dtype='object')"
      ]
     },
     "execution_count": 148,
     "metadata": {},
     "output_type": "execute_result"
    }
   ],
   "source": [
    "all_data.columns"
   ]
  },
  {
   "cell_type": "code",
   "execution_count": 149,
   "metadata": {
    "collapsed": true
   },
   "outputs": [],
   "source": [
    "all_data['LBMP_final ($/MWHr)'] = \\\n",
    "all_data.loc[:, ['LBMP ($/MWHr)', 'Marginal Cost Losses ($/MWHr)',\n",
    "       'Marginal Cost Congestion ($/MWHr)']].sum(axis=1)"
   ]
  },
  {
   "cell_type": "code",
   "execution_count": 150,
   "metadata": {
    "collapsed": false
   },
   "outputs": [
    {
     "data": {
      "text/html": [
       "<div>\n",
       "<style>\n",
       "    .dataframe thead tr:only-child th {\n",
       "        text-align: right;\n",
       "    }\n",
       "\n",
       "    .dataframe thead th {\n",
       "        text-align: left;\n",
       "    }\n",
       "\n",
       "    .dataframe tbody tr th {\n",
       "        vertical-align: top;\n",
       "    }\n",
       "</style>\n",
       "<table border=\"1\" class=\"dataframe\">\n",
       "  <thead>\n",
       "    <tr style=\"text-align: right;\">\n",
       "      <th></th>\n",
       "      <th></th>\n",
       "      <th>PTID</th>\n",
       "      <th>LBMP ($/MWHr)</th>\n",
       "      <th>Marginal Cost Losses ($/MWHr)</th>\n",
       "      <th>Marginal Cost Congestion ($/MWHr)</th>\n",
       "      <th>LBMP_final ($/MWHr)</th>\n",
       "    </tr>\n",
       "    <tr>\n",
       "      <th>Time Stamp</th>\n",
       "      <th>Name</th>\n",
       "      <th></th>\n",
       "      <th></th>\n",
       "      <th></th>\n",
       "      <th></th>\n",
       "      <th></th>\n",
       "    </tr>\n",
       "  </thead>\n",
       "  <tbody>\n",
       "    <tr>\n",
       "      <th rowspan=\"5\" valign=\"top\">01/01/2017 00:00</th>\n",
       "      <th>CAPITL</th>\n",
       "      <td>61757</td>\n",
       "      <td>42.06</td>\n",
       "      <td>0.68</td>\n",
       "      <td>-29.05</td>\n",
       "      <td>13.69</td>\n",
       "    </tr>\n",
       "    <tr>\n",
       "      <th>CENTRL</th>\n",
       "      <td>61754</td>\n",
       "      <td>15.50</td>\n",
       "      <td>0.20</td>\n",
       "      <td>-2.98</td>\n",
       "      <td>12.72</td>\n",
       "    </tr>\n",
       "    <tr>\n",
       "      <th>DUNWOD</th>\n",
       "      <td>61760</td>\n",
       "      <td>33.52</td>\n",
       "      <td>1.13</td>\n",
       "      <td>-20.06</td>\n",
       "      <td>14.59</td>\n",
       "    </tr>\n",
       "    <tr>\n",
       "      <th>GENESE</th>\n",
       "      <td>61753</td>\n",
       "      <td>14.67</td>\n",
       "      <td>0.04</td>\n",
       "      <td>-2.31</td>\n",
       "      <td>12.40</td>\n",
       "    </tr>\n",
       "    <tr>\n",
       "      <th>H Q</th>\n",
       "      <td>61844</td>\n",
       "      <td>11.89</td>\n",
       "      <td>-0.43</td>\n",
       "      <td>0.00</td>\n",
       "      <td>11.46</td>\n",
       "    </tr>\n",
       "  </tbody>\n",
       "</table>\n",
       "</div>"
      ],
      "text/plain": [
       "                          PTID  LBMP ($/MWHr)  Marginal Cost Losses ($/MWHr)  \\\n",
       "Time Stamp       Name                                                          \n",
       "01/01/2017 00:00 CAPITL  61757          42.06                           0.68   \n",
       "                 CENTRL  61754          15.50                           0.20   \n",
       "                 DUNWOD  61760          33.52                           1.13   \n",
       "                 GENESE  61753          14.67                           0.04   \n",
       "                 H Q     61844          11.89                          -0.43   \n",
       "\n",
       "                         Marginal Cost Congestion ($/MWHr)  \\\n",
       "Time Stamp       Name                                        \n",
       "01/01/2017 00:00 CAPITL                             -29.05   \n",
       "                 CENTRL                              -2.98   \n",
       "                 DUNWOD                             -20.06   \n",
       "                 GENESE                              -2.31   \n",
       "                 H Q                                  0.00   \n",
       "\n",
       "                         LBMP_final ($/MWHr)  \n",
       "Time Stamp       Name                         \n",
       "01/01/2017 00:00 CAPITL                13.69  \n",
       "                 CENTRL                12.72  \n",
       "                 DUNWOD                14.59  \n",
       "                 GENESE                12.40  \n",
       "                 H Q                   11.46  "
      ]
     },
     "execution_count": 150,
     "metadata": {},
     "output_type": "execute_result"
    }
   ],
   "source": [
    "all_data.head()"
   ]
  },
  {
   "cell_type": "markdown",
   "metadata": {},
   "source": [
    "Look at stats and visualization for New York City:"
   ]
  },
  {
   "cell_type": "code",
   "execution_count": 151,
   "metadata": {
    "collapsed": false
   },
   "outputs": [
    {
     "data": {
      "text/html": [
       "<div>\n",
       "<style>\n",
       "    .dataframe thead tr:only-child th {\n",
       "        text-align: right;\n",
       "    }\n",
       "\n",
       "    .dataframe thead th {\n",
       "        text-align: left;\n",
       "    }\n",
       "\n",
       "    .dataframe tbody tr th {\n",
       "        vertical-align: top;\n",
       "    }\n",
       "</style>\n",
       "<table border=\"1\" class=\"dataframe\">\n",
       "  <thead>\n",
       "    <tr style=\"text-align: right;\">\n",
       "      <th></th>\n",
       "      <th>PTID</th>\n",
       "      <th>LBMP ($/MWHr)</th>\n",
       "      <th>Marginal Cost Losses ($/MWHr)</th>\n",
       "      <th>Marginal Cost Congestion ($/MWHr)</th>\n",
       "      <th>LBMP_final ($/MWHr)</th>\n",
       "    </tr>\n",
       "  </thead>\n",
       "  <tbody>\n",
       "    <tr>\n",
       "      <th>count</th>\n",
       "      <td>8760.0</td>\n",
       "      <td>8760.000000</td>\n",
       "      <td>8760.000000</td>\n",
       "      <td>8760.000000</td>\n",
       "      <td>8760.000000</td>\n",
       "    </tr>\n",
       "    <tr>\n",
       "      <th>mean</th>\n",
       "      <td>61761.0</td>\n",
       "      <td>33.154580</td>\n",
       "      <td>2.698438</td>\n",
       "      <td>-8.222934</td>\n",
       "      <td>27.630084</td>\n",
       "    </tr>\n",
       "    <tr>\n",
       "      <th>std</th>\n",
       "      <td>0.0</td>\n",
       "      <td>16.655716</td>\n",
       "      <td>1.378354</td>\n",
       "      <td>10.976295</td>\n",
       "      <td>14.633944</td>\n",
       "    </tr>\n",
       "    <tr>\n",
       "      <th>min</th>\n",
       "      <td>61761.0</td>\n",
       "      <td>5.820000</td>\n",
       "      <td>-0.590000</td>\n",
       "      <td>-135.860000</td>\n",
       "      <td>-5.440000</td>\n",
       "    </tr>\n",
       "    <tr>\n",
       "      <th>25%</th>\n",
       "      <td>61761.0</td>\n",
       "      <td>23.700000</td>\n",
       "      <td>1.690000</td>\n",
       "      <td>-10.690000</td>\n",
       "      <td>18.147500</td>\n",
       "    </tr>\n",
       "    <tr>\n",
       "      <th>50%</th>\n",
       "      <td>61761.0</td>\n",
       "      <td>30.990000</td>\n",
       "      <td>2.680000</td>\n",
       "      <td>-5.330000</td>\n",
       "      <td>27.320000</td>\n",
       "    </tr>\n",
       "    <tr>\n",
       "      <th>75%</th>\n",
       "      <td>61761.0</td>\n",
       "      <td>38.440000</td>\n",
       "      <td>3.530000</td>\n",
       "      <td>-1.130000</td>\n",
       "      <td>35.302500</td>\n",
       "    </tr>\n",
       "    <tr>\n",
       "      <th>max</th>\n",
       "      <td>61761.0</td>\n",
       "      <td>218.130000</td>\n",
       "      <td>15.370000</td>\n",
       "      <td>1.040000</td>\n",
       "      <td>201.480000</td>\n",
       "    </tr>\n",
       "  </tbody>\n",
       "</table>\n",
       "</div>"
      ],
      "text/plain": [
       "          PTID  LBMP ($/MWHr)  Marginal Cost Losses ($/MWHr)  \\\n",
       "count   8760.0    8760.000000                    8760.000000   \n",
       "mean   61761.0      33.154580                       2.698438   \n",
       "std        0.0      16.655716                       1.378354   \n",
       "min    61761.0       5.820000                      -0.590000   \n",
       "25%    61761.0      23.700000                       1.690000   \n",
       "50%    61761.0      30.990000                       2.680000   \n",
       "75%    61761.0      38.440000                       3.530000   \n",
       "max    61761.0     218.130000                      15.370000   \n",
       "\n",
       "       Marginal Cost Congestion ($/MWHr)  LBMP_final ($/MWHr)  \n",
       "count                        8760.000000          8760.000000  \n",
       "mean                           -8.222934            27.630084  \n",
       "std                            10.976295            14.633944  \n",
       "min                          -135.860000            -5.440000  \n",
       "25%                           -10.690000            18.147500  \n",
       "50%                            -5.330000            27.320000  \n",
       "75%                            -1.130000            35.302500  \n",
       "max                             1.040000           201.480000  "
      ]
     },
     "execution_count": 151,
     "metadata": {},
     "output_type": "execute_result"
    }
   ],
   "source": [
    "all_data.xs('N.Y.C.', level='Name').describe()"
   ]
  },
  {
   "cell_type": "code",
   "execution_count": 152,
   "metadata": {
    "collapsed": false
   },
   "outputs": [
    {
     "data": {
      "text/plain": [
       "(array([    0.,  1000.,  2000.,  3000.,  4000.,  5000.,  6000.,  7000.,\n",
       "         8000.,  9000.]), <a list of 10 Text xticklabel objects>)"
      ]
     },
     "execution_count": 152,
     "metadata": {},
     "output_type": "execute_result"
    },
    {
     "data": {
      "image/png": "[encoded data removed]",
      "text/plain": [
       "<matplotlib.figure.Figure at 0x115588bd0>"
      ]
     },
     "metadata": {},
     "output_type": "display_data"
    }
   ],
   "source": [
    "all_data.xs('N.Y.C.', level='Name').plot(y='LBMP_final ($/MWHr)')\n",
    "plt.xticks(rotation=45)"
   ]
  },
  {
   "cell_type": "code",
   "execution_count": 153,
   "metadata": {
    "collapsed": false
   },
   "outputs": [
    {
     "data": {
      "text/plain": [
       "(array([    0.,  1000.,  2000.,  3000.,  4000.,  5000.,  6000.,  7000.,\n",
       "         8000.,  9000.]), <a list of 10 Text xticklabel objects>)"
      ]
     },
     "execution_count": 153,
     "metadata": {},
     "output_type": "execute_result"
    },
    {
     "data": {
      "image/png": "[encoded data removed]",
      "text/plain": [
       "<matplotlib.figure.Figure at 0x116c05110>"
      ]
     },
     "metadata": {},
     "output_type": "display_data"
    }
   ],
   "source": [
    "all_data.xs('N.Y.C.', level='Name').plot(y='LBMP ($/MWHr)')\n",
    "plt.xticks(rotation=45)"
   ]
  },
  {
   "cell_type": "markdown",
   "metadata": {},
   "source": [
    "This tells me that what is here called the 'LBMP (\\$/MWHr)' may already have the congestion and marginal loss costs factored in... when I add those manually, I get a column that includes negative values, which doesn't make sense: the utility would never pay you to use electricity. Check this with business.\n",
    "\n",
    "Anywho, the 'LBMP (\\$/MWHr)' shows peaks in January and March (not clear why... maybe a weather event or something else), during the summer, perhaps due to air conditioning, and a huge peak in late December, probably coinciding with the holiday season."
   ]
  },
  {
   "cell_type": "markdown",
   "metadata": {},
   "source": [
    "Practice breaking out the prices for 24 hour periods beginning at noon, needed for the model."
   ]
  },
  {
   "cell_type": "code",
   "execution_count": 154,
   "metadata": {
    "collapsed": false
   },
   "outputs": [
    {
     "data": {
      "text/plain": [
       "dtype('O')"
      ]
     },
     "execution_count": 154,
     "metadata": {},
     "output_type": "execute_result"
    }
   ],
   "source": [
    "all_data.index.get_level_values('Name').dtype"
   ]
  },
  {
   "cell_type": "code",
   "execution_count": 155,
   "metadata": {
    "collapsed": false
   },
   "outputs": [
    {
     "data": {
      "text/plain": [
       "dtype('O')"
      ]
     },
     "execution_count": 155,
     "metadata": {},
     "output_type": "execute_result"
    }
   ],
   "source": [
    "all_data.index.get_level_values('Time Stamp').dtype"
   ]
  },
  {
   "cell_type": "markdown",
   "metadata": {},
   "source": [
    "This would be easier with a datetime index for the time stamp. Convert."
   ]
  },
  {
   "cell_type": "markdown",
   "metadata": {},
   "source": [
    "How to convert data type of one index in a multiindex: https://stackoverflow.com/questions/34417970/pandas-convert-index-type-in-multiindex-dataframe"
   ]
  },
  {
   "cell_type": "code",
   "execution_count": 156,
   "metadata": {
    "collapsed": true
   },
   "outputs": [],
   "source": [
    "idx = all_data.index"
   ]
  },
  {
   "cell_type": "code",
   "execution_count": 157,
   "metadata": {
    "collapsed": false
   },
   "outputs": [
    {
     "data": {
      "text/plain": [
       "2"
      ]
     },
     "execution_count": 157,
     "metadata": {},
     "output_type": "execute_result"
    }
   ],
   "source": [
    "len(idx.levels)"
   ]
  },
  {
   "cell_type": "code",
   "execution_count": 158,
   "metadata": {
    "collapsed": false
   },
   "outputs": [],
   "source": [
    "all_data.index = \\\n",
    "all_data.index.set_levels(\n",
    "    [pd.to_datetime(idx.levels[0], format='%m/%d/%Y %H:%M'),\n",
    "     idx.levels[1]])"
   ]
  },
  {
   "cell_type": "code",
   "execution_count": 159,
   "metadata": {
    "collapsed": false
   },
   "outputs": [
    {
     "data": {
      "text/plain": [
       "dtype('<M8[ns]')"
      ]
     },
     "execution_count": 159,
     "metadata": {},
     "output_type": "execute_result"
    }
   ],
   "source": [
    "all_data.index.get_level_values('Time Stamp').dtype"
   ]
  },
  {
   "cell_type": "markdown",
   "metadata": {},
   "source": [
    "Now it's easy to select on a range of times, and within a zone:"
   ]
  },
  {
   "cell_type": "code",
   "execution_count": 160,
   "metadata": {
    "collapsed": false
   },
   "outputs": [
    {
     "data": {
      "text/html": [
       "<div>\n",
       "<style>\n",
       "    .dataframe thead tr:only-child th {\n",
       "        text-align: right;\n",
       "    }\n",
       "\n",
       "    .dataframe thead th {\n",
       "        text-align: left;\n",
       "    }\n",
       "\n",
       "    .dataframe tbody tr th {\n",
       "        vertical-align: top;\n",
       "    }\n",
       "</style>\n",
       "<table border=\"1\" class=\"dataframe\">\n",
       "  <thead>\n",
       "    <tr style=\"text-align: right;\">\n",
       "      <th></th>\n",
       "      <th>PTID</th>\n",
       "      <th>LBMP ($/MWHr)</th>\n",
       "      <th>Marginal Cost Losses ($/MWHr)</th>\n",
       "      <th>Marginal Cost Congestion ($/MWHr)</th>\n",
       "      <th>LBMP_final ($/MWHr)</th>\n",
       "    </tr>\n",
       "    <tr>\n",
       "      <th>Time Stamp</th>\n",
       "      <th></th>\n",
       "      <th></th>\n",
       "      <th></th>\n",
       "      <th></th>\n",
       "      <th></th>\n",
       "    </tr>\n",
       "  </thead>\n",
       "  <tbody>\n",
       "    <tr>\n",
       "      <th>2017-01-01 12:00:00</th>\n",
       "      <td>61761</td>\n",
       "      <td>31.78</td>\n",
       "      <td>2.06</td>\n",
       "      <td>-10.69</td>\n",
       "      <td>23.15</td>\n",
       "    </tr>\n",
       "    <tr>\n",
       "      <th>2017-01-01 13:00:00</th>\n",
       "      <td>61761</td>\n",
       "      <td>29.96</td>\n",
       "      <td>2.05</td>\n",
       "      <td>-8.55</td>\n",
       "      <td>23.46</td>\n",
       "    </tr>\n",
       "    <tr>\n",
       "      <th>2017-01-01 14:00:00</th>\n",
       "      <td>61761</td>\n",
       "      <td>30.08</td>\n",
       "      <td>2.18</td>\n",
       "      <td>-7.35</td>\n",
       "      <td>24.91</td>\n",
       "    </tr>\n",
       "    <tr>\n",
       "      <th>2017-01-01 15:00:00</th>\n",
       "      <td>61761</td>\n",
       "      <td>30.09</td>\n",
       "      <td>2.47</td>\n",
       "      <td>-5.15</td>\n",
       "      <td>27.41</td>\n",
       "    </tr>\n",
       "    <tr>\n",
       "      <th>2017-01-01 16:00:00</th>\n",
       "      <td>61761</td>\n",
       "      <td>35.30</td>\n",
       "      <td>3.42</td>\n",
       "      <td>-0.75</td>\n",
       "      <td>37.97</td>\n",
       "    </tr>\n",
       "    <tr>\n",
       "      <th>2017-01-01 17:00:00</th>\n",
       "      <td>61761</td>\n",
       "      <td>45.54</td>\n",
       "      <td>4.18</td>\n",
       "      <td>0.00</td>\n",
       "      <td>49.72</td>\n",
       "    </tr>\n",
       "    <tr>\n",
       "      <th>2017-01-01 18:00:00</th>\n",
       "      <td>61761</td>\n",
       "      <td>40.93</td>\n",
       "      <td>3.99</td>\n",
       "      <td>0.00</td>\n",
       "      <td>44.92</td>\n",
       "    </tr>\n",
       "    <tr>\n",
       "      <th>2017-01-01 19:00:00</th>\n",
       "      <td>61761</td>\n",
       "      <td>39.60</td>\n",
       "      <td>3.92</td>\n",
       "      <td>0.00</td>\n",
       "      <td>43.52</td>\n",
       "    </tr>\n",
       "    <tr>\n",
       "      <th>2017-01-01 20:00:00</th>\n",
       "      <td>61761</td>\n",
       "      <td>37.35</td>\n",
       "      <td>3.74</td>\n",
       "      <td>-0.76</td>\n",
       "      <td>40.33</td>\n",
       "    </tr>\n",
       "    <tr>\n",
       "      <th>2017-01-01 21:00:00</th>\n",
       "      <td>61761</td>\n",
       "      <td>35.54</td>\n",
       "      <td>3.05</td>\n",
       "      <td>-5.47</td>\n",
       "      <td>33.12</td>\n",
       "    </tr>\n",
       "    <tr>\n",
       "      <th>2017-01-01 22:00:00</th>\n",
       "      <td>61761</td>\n",
       "      <td>31.84</td>\n",
       "      <td>2.50</td>\n",
       "      <td>-5.98</td>\n",
       "      <td>28.36</td>\n",
       "    </tr>\n",
       "    <tr>\n",
       "      <th>2017-01-01 23:00:00</th>\n",
       "      <td>61761</td>\n",
       "      <td>29.81</td>\n",
       "      <td>2.38</td>\n",
       "      <td>-2.67</td>\n",
       "      <td>29.52</td>\n",
       "    </tr>\n",
       "    <tr>\n",
       "      <th>2017-01-02 00:00:00</th>\n",
       "      <td>61761</td>\n",
       "      <td>36.16</td>\n",
       "      <td>2.42</td>\n",
       "      <td>-8.53</td>\n",
       "      <td>30.05</td>\n",
       "    </tr>\n",
       "    <tr>\n",
       "      <th>2017-01-02 01:00:00</th>\n",
       "      <td>61761</td>\n",
       "      <td>35.07</td>\n",
       "      <td>1.77</td>\n",
       "      <td>-14.32</td>\n",
       "      <td>22.52</td>\n",
       "    </tr>\n",
       "    <tr>\n",
       "      <th>2017-01-02 02:00:00</th>\n",
       "      <td>61761</td>\n",
       "      <td>30.14</td>\n",
       "      <td>1.82</td>\n",
       "      <td>-8.90</td>\n",
       "      <td>23.06</td>\n",
       "    </tr>\n",
       "    <tr>\n",
       "      <th>2017-01-02 03:00:00</th>\n",
       "      <td>61761</td>\n",
       "      <td>27.35</td>\n",
       "      <td>1.40</td>\n",
       "      <td>-11.00</td>\n",
       "      <td>17.75</td>\n",
       "    </tr>\n",
       "    <tr>\n",
       "      <th>2017-01-02 04:00:00</th>\n",
       "      <td>61761</td>\n",
       "      <td>29.90</td>\n",
       "      <td>1.77</td>\n",
       "      <td>-8.89</td>\n",
       "      <td>22.78</td>\n",
       "    </tr>\n",
       "    <tr>\n",
       "      <th>2017-01-02 05:00:00</th>\n",
       "      <td>61761</td>\n",
       "      <td>29.90</td>\n",
       "      <td>1.92</td>\n",
       "      <td>-6.18</td>\n",
       "      <td>25.64</td>\n",
       "    </tr>\n",
       "    <tr>\n",
       "      <th>2017-01-02 06:00:00</th>\n",
       "      <td>61761</td>\n",
       "      <td>32.03</td>\n",
       "      <td>2.17</td>\n",
       "      <td>-5.79</td>\n",
       "      <td>28.41</td>\n",
       "    </tr>\n",
       "    <tr>\n",
       "      <th>2017-01-02 07:00:00</th>\n",
       "      <td>61761</td>\n",
       "      <td>35.55</td>\n",
       "      <td>1.60</td>\n",
       "      <td>-16.37</td>\n",
       "      <td>20.78</td>\n",
       "    </tr>\n",
       "    <tr>\n",
       "      <th>2017-01-02 08:00:00</th>\n",
       "      <td>61761</td>\n",
       "      <td>38.98</td>\n",
       "      <td>1.74</td>\n",
       "      <td>-19.50</td>\n",
       "      <td>21.22</td>\n",
       "    </tr>\n",
       "    <tr>\n",
       "      <th>2017-01-02 09:00:00</th>\n",
       "      <td>61761</td>\n",
       "      <td>43.58</td>\n",
       "      <td>1.97</td>\n",
       "      <td>-21.14</td>\n",
       "      <td>24.41</td>\n",
       "    </tr>\n",
       "    <tr>\n",
       "      <th>2017-01-02 10:00:00</th>\n",
       "      <td>61761</td>\n",
       "      <td>39.17</td>\n",
       "      <td>2.32</td>\n",
       "      <td>-14.59</td>\n",
       "      <td>26.90</td>\n",
       "    </tr>\n",
       "    <tr>\n",
       "      <th>2017-01-02 11:00:00</th>\n",
       "      <td>61761</td>\n",
       "      <td>39.42</td>\n",
       "      <td>2.67</td>\n",
       "      <td>-11.33</td>\n",
       "      <td>30.76</td>\n",
       "    </tr>\n",
       "  </tbody>\n",
       "</table>\n",
       "</div>"
      ],
      "text/plain": [
       "                      PTID  LBMP ($/MWHr)  Marginal Cost Losses ($/MWHr)  \\\n",
       "Time Stamp                                                                 \n",
       "2017-01-01 12:00:00  61761          31.78                           2.06   \n",
       "2017-01-01 13:00:00  61761          29.96                           2.05   \n",
       "2017-01-01 14:00:00  61761          30.08                           2.18   \n",
       "2017-01-01 15:00:00  61761          30.09                           2.47   \n",
       "2017-01-01 16:00:00  61761          35.30                           3.42   \n",
       "2017-01-01 17:00:00  61761          45.54                           4.18   \n",
       "2017-01-01 18:00:00  61761          40.93                           3.99   \n",
       "2017-01-01 19:00:00  61761          39.60                           3.92   \n",
       "2017-01-01 20:00:00  61761          37.35                           3.74   \n",
       "2017-01-01 21:00:00  61761          35.54                           3.05   \n",
       "2017-01-01 22:00:00  61761          31.84                           2.50   \n",
       "2017-01-01 23:00:00  61761          29.81                           2.38   \n",
       "2017-01-02 00:00:00  61761          36.16                           2.42   \n",
       "2017-01-02 01:00:00  61761          35.07                           1.77   \n",
       "2017-01-02 02:00:00  61761          30.14                           1.82   \n",
       "2017-01-02 03:00:00  61761          27.35                           1.40   \n",
       "2017-01-02 04:00:00  61761          29.90                           1.77   \n",
       "2017-01-02 05:00:00  61761          29.90                           1.92   \n",
       "2017-01-02 06:00:00  61761          32.03                           2.17   \n",
       "2017-01-02 07:00:00  61761          35.55                           1.60   \n",
       "2017-01-02 08:00:00  61761          38.98                           1.74   \n",
       "2017-01-02 09:00:00  61761          43.58                           1.97   \n",
       "2017-01-02 10:00:00  61761          39.17                           2.32   \n",
       "2017-01-02 11:00:00  61761          39.42                           2.67   \n",
       "\n",
       "                     Marginal Cost Congestion ($/MWHr)  LBMP_final ($/MWHr)  \n",
       "Time Stamp                                                                   \n",
       "2017-01-01 12:00:00                             -10.69                23.15  \n",
       "2017-01-01 13:00:00                              -8.55                23.46  \n",
       "2017-01-01 14:00:00                              -7.35                24.91  \n",
       "2017-01-01 15:00:00                              -5.15                27.41  \n",
       "2017-01-01 16:00:00                              -0.75                37.97  \n",
       "2017-01-01 17:00:00                               0.00                49.72  \n",
       "2017-01-01 18:00:00                               0.00                44.92  \n",
       "2017-01-01 19:00:00                               0.00                43.52  \n",
       "2017-01-01 20:00:00                              -0.76                40.33  \n",
       "2017-01-01 21:00:00                              -5.47                33.12  \n",
       "2017-01-01 22:00:00                              -5.98                28.36  \n",
       "2017-01-01 23:00:00                              -2.67                29.52  \n",
       "2017-01-02 00:00:00                              -8.53                30.05  \n",
       "2017-01-02 01:00:00                             -14.32                22.52  \n",
       "2017-01-02 02:00:00                              -8.90                23.06  \n",
       "2017-01-02 03:00:00                             -11.00                17.75  \n",
       "2017-01-02 04:00:00                              -8.89                22.78  \n",
       "2017-01-02 05:00:00                              -6.18                25.64  \n",
       "2017-01-02 06:00:00                              -5.79                28.41  \n",
       "2017-01-02 07:00:00                             -16.37                20.78  \n",
       "2017-01-02 08:00:00                             -19.50                21.22  \n",
       "2017-01-02 09:00:00                             -21.14                24.41  \n",
       "2017-01-02 10:00:00                             -14.59                26.90  \n",
       "2017-01-02 11:00:00                             -11.33                30.76  "
      ]
     },
     "execution_count": 160,
     "metadata": {},
     "output_type": "execute_result"
    }
   ],
   "source": [
    "all_data['1/1/2017 12:00':'1/2/2017 11:00'].xs('N.Y.C.', level='Name')"
   ]
  },
  {
   "cell_type": "markdown",
   "metadata": {},
   "source": [
    "How to programmatically step from day to day in the data"
   ]
  },
  {
   "cell_type": "code",
   "execution_count": 162,
   "metadata": {
    "collapsed": true
   },
   "outputs": [],
   "source": [
    "# From documentation\n",
    "# https://docs.python.org/2/library/datetime.html\n",
    "# datetime.datetime(year, month, day[, hour[, minute"
   ]
  },
  {
   "cell_type": "code",
   "execution_count": 164,
   "metadata": {
    "collapsed": false
   },
   "outputs": [],
   "source": [
    "start_time = datetime.datetime(2017, 1, 1, 12, 0)"
   ]
  },
  {
   "cell_type": "code",
   "execution_count": 165,
   "metadata": {
    "collapsed": false
   },
   "outputs": [
    {
     "data": {
      "text/plain": [
       "datetime.datetime(2017, 1, 1, 12, 0)"
      ]
     },
     "execution_count": 165,
     "metadata": {},
     "output_type": "execute_result"
    }
   ],
   "source": [
    "start_time"
   ]
  },
  {
   "cell_type": "code",
   "execution_count": 167,
   "metadata": {
    "collapsed": false
   },
   "outputs": [],
   "source": [
    "end_time = datetime.datetime(2017, 1, 2, 11, 0)"
   ]
  },
  {
   "cell_type": "markdown",
   "metadata": {},
   "source": [
    "These datetime.datetime instances can be used to select data, and they can be incremented one day at a time with a timedelta."
   ]
  },
  {
   "cell_type": "code",
   "execution_count": 168,
   "metadata": {
    "collapsed": true
   },
   "outputs": [],
   "source": [
    "# class datetime.timedelta([days[, seconds..."
   ]
  },
  {
   "cell_type": "code",
   "execution_count": 169,
   "metadata": {
    "collapsed": true
   },
   "outputs": [],
   "source": [
    "one_day_delta = datetime.timedelta(1)"
   ]
  },
  {
   "cell_type": "code",
   "execution_count": 170,
   "metadata": {
    "collapsed": false
   },
   "outputs": [
    {
     "data": {
      "text/plain": [
       "datetime.datetime(2017, 1, 2, 12, 0)"
      ]
     },
     "execution_count": 170,
     "metadata": {},
     "output_type": "execute_result"
    }
   ],
   "source": [
    "start_time+one_day_delta"
   ]
  },
  {
   "cell_type": "code",
   "execution_count": 171,
   "metadata": {
    "collapsed": false
   },
   "outputs": [
    {
     "data": {
      "text/html": [
       "<div>\n",
       "<style>\n",
       "    .dataframe thead tr:only-child th {\n",
       "        text-align: right;\n",
       "    }\n",
       "\n",
       "    .dataframe thead th {\n",
       "        text-align: left;\n",
       "    }\n",
       "\n",
       "    .dataframe tbody tr th {\n",
       "        vertical-align: top;\n",
       "    }\n",
       "</style>\n",
       "<table border=\"1\" class=\"dataframe\">\n",
       "  <thead>\n",
       "    <tr style=\"text-align: right;\">\n",
       "      <th></th>\n",
       "      <th>PTID</th>\n",
       "      <th>LBMP ($/MWHr)</th>\n",
       "      <th>Marginal Cost Losses ($/MWHr)</th>\n",
       "      <th>Marginal Cost Congestion ($/MWHr)</th>\n",
       "      <th>LBMP_final ($/MWHr)</th>\n",
       "    </tr>\n",
       "    <tr>\n",
       "      <th>Time Stamp</th>\n",
       "      <th></th>\n",
       "      <th></th>\n",
       "      <th></th>\n",
       "      <th></th>\n",
       "      <th></th>\n",
       "    </tr>\n",
       "  </thead>\n",
       "  <tbody>\n",
       "    <tr>\n",
       "      <th>2017-01-01 12:00:00</th>\n",
       "      <td>61761</td>\n",
       "      <td>31.78</td>\n",
       "      <td>2.06</td>\n",
       "      <td>-10.69</td>\n",
       "      <td>23.15</td>\n",
       "    </tr>\n",
       "    <tr>\n",
       "      <th>2017-01-01 13:00:00</th>\n",
       "      <td>61761</td>\n",
       "      <td>29.96</td>\n",
       "      <td>2.05</td>\n",
       "      <td>-8.55</td>\n",
       "      <td>23.46</td>\n",
       "    </tr>\n",
       "    <tr>\n",
       "      <th>2017-01-01 14:00:00</th>\n",
       "      <td>61761</td>\n",
       "      <td>30.08</td>\n",
       "      <td>2.18</td>\n",
       "      <td>-7.35</td>\n",
       "      <td>24.91</td>\n",
       "    </tr>\n",
       "    <tr>\n",
       "      <th>2017-01-01 15:00:00</th>\n",
       "      <td>61761</td>\n",
       "      <td>30.09</td>\n",
       "      <td>2.47</td>\n",
       "      <td>-5.15</td>\n",
       "      <td>27.41</td>\n",
       "    </tr>\n",
       "    <tr>\n",
       "      <th>2017-01-01 16:00:00</th>\n",
       "      <td>61761</td>\n",
       "      <td>35.30</td>\n",
       "      <td>3.42</td>\n",
       "      <td>-0.75</td>\n",
       "      <td>37.97</td>\n",
       "    </tr>\n",
       "    <tr>\n",
       "      <th>2017-01-01 17:00:00</th>\n",
       "      <td>61761</td>\n",
       "      <td>45.54</td>\n",
       "      <td>4.18</td>\n",
       "      <td>0.00</td>\n",
       "      <td>49.72</td>\n",
       "    </tr>\n",
       "    <tr>\n",
       "      <th>2017-01-01 18:00:00</th>\n",
       "      <td>61761</td>\n",
       "      <td>40.93</td>\n",
       "      <td>3.99</td>\n",
       "      <td>0.00</td>\n",
       "      <td>44.92</td>\n",
       "    </tr>\n",
       "    <tr>\n",
       "      <th>2017-01-01 19:00:00</th>\n",
       "      <td>61761</td>\n",
       "      <td>39.60</td>\n",
       "      <td>3.92</td>\n",
       "      <td>0.00</td>\n",
       "      <td>43.52</td>\n",
       "    </tr>\n",
       "    <tr>\n",
       "      <th>2017-01-01 20:00:00</th>\n",
       "      <td>61761</td>\n",
       "      <td>37.35</td>\n",
       "      <td>3.74</td>\n",
       "      <td>-0.76</td>\n",
       "      <td>40.33</td>\n",
       "    </tr>\n",
       "    <tr>\n",
       "      <th>2017-01-01 21:00:00</th>\n",
       "      <td>61761</td>\n",
       "      <td>35.54</td>\n",
       "      <td>3.05</td>\n",
       "      <td>-5.47</td>\n",
       "      <td>33.12</td>\n",
       "    </tr>\n",
       "    <tr>\n",
       "      <th>2017-01-01 22:00:00</th>\n",
       "      <td>61761</td>\n",
       "      <td>31.84</td>\n",
       "      <td>2.50</td>\n",
       "      <td>-5.98</td>\n",
       "      <td>28.36</td>\n",
       "    </tr>\n",
       "    <tr>\n",
       "      <th>2017-01-01 23:00:00</th>\n",
       "      <td>61761</td>\n",
       "      <td>29.81</td>\n",
       "      <td>2.38</td>\n",
       "      <td>-2.67</td>\n",
       "      <td>29.52</td>\n",
       "    </tr>\n",
       "    <tr>\n",
       "      <th>2017-01-02 00:00:00</th>\n",
       "      <td>61761</td>\n",
       "      <td>36.16</td>\n",
       "      <td>2.42</td>\n",
       "      <td>-8.53</td>\n",
       "      <td>30.05</td>\n",
       "    </tr>\n",
       "    <tr>\n",
       "      <th>2017-01-02 01:00:00</th>\n",
       "      <td>61761</td>\n",
       "      <td>35.07</td>\n",
       "      <td>1.77</td>\n",
       "      <td>-14.32</td>\n",
       "      <td>22.52</td>\n",
       "    </tr>\n",
       "    <tr>\n",
       "      <th>2017-01-02 02:00:00</th>\n",
       "      <td>61761</td>\n",
       "      <td>30.14</td>\n",
       "      <td>1.82</td>\n",
       "      <td>-8.90</td>\n",
       "      <td>23.06</td>\n",
       "    </tr>\n",
       "    <tr>\n",
       "      <th>2017-01-02 03:00:00</th>\n",
       "      <td>61761</td>\n",
       "      <td>27.35</td>\n",
       "      <td>1.40</td>\n",
       "      <td>-11.00</td>\n",
       "      <td>17.75</td>\n",
       "    </tr>\n",
       "    <tr>\n",
       "      <th>2017-01-02 04:00:00</th>\n",
       "      <td>61761</td>\n",
       "      <td>29.90</td>\n",
       "      <td>1.77</td>\n",
       "      <td>-8.89</td>\n",
       "      <td>22.78</td>\n",
       "    </tr>\n",
       "    <tr>\n",
       "      <th>2017-01-02 05:00:00</th>\n",
       "      <td>61761</td>\n",
       "      <td>29.90</td>\n",
       "      <td>1.92</td>\n",
       "      <td>-6.18</td>\n",
       "      <td>25.64</td>\n",
       "    </tr>\n",
       "    <tr>\n",
       "      <th>2017-01-02 06:00:00</th>\n",
       "      <td>61761</td>\n",
       "      <td>32.03</td>\n",
       "      <td>2.17</td>\n",
       "      <td>-5.79</td>\n",
       "      <td>28.41</td>\n",
       "    </tr>\n",
       "    <tr>\n",
       "      <th>2017-01-02 07:00:00</th>\n",
       "      <td>61761</td>\n",
       "      <td>35.55</td>\n",
       "      <td>1.60</td>\n",
       "      <td>-16.37</td>\n",
       "      <td>20.78</td>\n",
       "    </tr>\n",
       "    <tr>\n",
       "      <th>2017-01-02 08:00:00</th>\n",
       "      <td>61761</td>\n",
       "      <td>38.98</td>\n",
       "      <td>1.74</td>\n",
       "      <td>-19.50</td>\n",
       "      <td>21.22</td>\n",
       "    </tr>\n",
       "    <tr>\n",
       "      <th>2017-01-02 09:00:00</th>\n",
       "      <td>61761</td>\n",
       "      <td>43.58</td>\n",
       "      <td>1.97</td>\n",
       "      <td>-21.14</td>\n",
       "      <td>24.41</td>\n",
       "    </tr>\n",
       "    <tr>\n",
       "      <th>2017-01-02 10:00:00</th>\n",
       "      <td>61761</td>\n",
       "      <td>39.17</td>\n",
       "      <td>2.32</td>\n",
       "      <td>-14.59</td>\n",
       "      <td>26.90</td>\n",
       "    </tr>\n",
       "    <tr>\n",
       "      <th>2017-01-02 11:00:00</th>\n",
       "      <td>61761</td>\n",
       "      <td>39.42</td>\n",
       "      <td>2.67</td>\n",
       "      <td>-11.33</td>\n",
       "      <td>30.76</td>\n",
       "    </tr>\n",
       "  </tbody>\n",
       "</table>\n",
       "</div>"
      ],
      "text/plain": [
       "                      PTID  LBMP ($/MWHr)  Marginal Cost Losses ($/MWHr)  \\\n",
       "Time Stamp                                                                 \n",
       "2017-01-01 12:00:00  61761          31.78                           2.06   \n",
       "2017-01-01 13:00:00  61761          29.96                           2.05   \n",
       "2017-01-01 14:00:00  61761          30.08                           2.18   \n",
       "2017-01-01 15:00:00  61761          30.09                           2.47   \n",
       "2017-01-01 16:00:00  61761          35.30                           3.42   \n",
       "2017-01-01 17:00:00  61761          45.54                           4.18   \n",
       "2017-01-01 18:00:00  61761          40.93                           3.99   \n",
       "2017-01-01 19:00:00  61761          39.60                           3.92   \n",
       "2017-01-01 20:00:00  61761          37.35                           3.74   \n",
       "2017-01-01 21:00:00  61761          35.54                           3.05   \n",
       "2017-01-01 22:00:00  61761          31.84                           2.50   \n",
       "2017-01-01 23:00:00  61761          29.81                           2.38   \n",
       "2017-01-02 00:00:00  61761          36.16                           2.42   \n",
       "2017-01-02 01:00:00  61761          35.07                           1.77   \n",
       "2017-01-02 02:00:00  61761          30.14                           1.82   \n",
       "2017-01-02 03:00:00  61761          27.35                           1.40   \n",
       "2017-01-02 04:00:00  61761          29.90                           1.77   \n",
       "2017-01-02 05:00:00  61761          29.90                           1.92   \n",
       "2017-01-02 06:00:00  61761          32.03                           2.17   \n",
       "2017-01-02 07:00:00  61761          35.55                           1.60   \n",
       "2017-01-02 08:00:00  61761          38.98                           1.74   \n",
       "2017-01-02 09:00:00  61761          43.58                           1.97   \n",
       "2017-01-02 10:00:00  61761          39.17                           2.32   \n",
       "2017-01-02 11:00:00  61761          39.42                           2.67   \n",
       "\n",
       "                     Marginal Cost Congestion ($/MWHr)  LBMP_final ($/MWHr)  \n",
       "Time Stamp                                                                   \n",
       "2017-01-01 12:00:00                             -10.69                23.15  \n",
       "2017-01-01 13:00:00                              -8.55                23.46  \n",
       "2017-01-01 14:00:00                              -7.35                24.91  \n",
       "2017-01-01 15:00:00                              -5.15                27.41  \n",
       "2017-01-01 16:00:00                              -0.75                37.97  \n",
       "2017-01-01 17:00:00                               0.00                49.72  \n",
       "2017-01-01 18:00:00                               0.00                44.92  \n",
       "2017-01-01 19:00:00                               0.00                43.52  \n",
       "2017-01-01 20:00:00                              -0.76                40.33  \n",
       "2017-01-01 21:00:00                              -5.47                33.12  \n",
       "2017-01-01 22:00:00                              -5.98                28.36  \n",
       "2017-01-01 23:00:00                              -2.67                29.52  \n",
       "2017-01-02 00:00:00                              -8.53                30.05  \n",
       "2017-01-02 01:00:00                             -14.32                22.52  \n",
       "2017-01-02 02:00:00                              -8.90                23.06  \n",
       "2017-01-02 03:00:00                             -11.00                17.75  \n",
       "2017-01-02 04:00:00                              -8.89                22.78  \n",
       "2017-01-02 05:00:00                              -6.18                25.64  \n",
       "2017-01-02 06:00:00                              -5.79                28.41  \n",
       "2017-01-02 07:00:00                             -16.37                20.78  \n",
       "2017-01-02 08:00:00                             -19.50                21.22  \n",
       "2017-01-02 09:00:00                             -21.14                24.41  \n",
       "2017-01-02 10:00:00                             -14.59                26.90  \n",
       "2017-01-02 11:00:00                             -11.33                30.76  "
      ]
     },
     "execution_count": 171,
     "metadata": {},
     "output_type": "execute_result"
    }
   ],
   "source": [
    "all_data[start_time:end_time].xs('N.Y.C.', level='Name')"
   ]
  },
  {
   "cell_type": "code",
   "execution_count": null,
   "metadata": {
    "collapsed": true
   },
   "outputs": [],
   "source": []
  }
 ],
 "metadata": {
  "kernelspec": {
   "display_name": "Python 2",
   "language": "python",
   "name": "python2"
  },
  "language_info": {
   "codemirror_mode": {
    "name": "ipython",
    "version": 2
   },
   "file_extension": ".py",
   "mimetype": "text/x-python",
   "name": "python",
   "nbconvert_exporter": "python",
   "pygments_lexer": "ipython2",
   "version": "2.7.13"
  }
 },
 "nbformat": 4,
 "nbformat_minor": 2
}
