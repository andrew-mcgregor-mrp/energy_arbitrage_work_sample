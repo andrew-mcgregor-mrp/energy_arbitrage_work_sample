{
 "cells": [
  {
   "cell_type": "markdown",
   "metadata": {},
   "source": [
    "Pulp tutorial, based on http://benalexkeen.com/linear-programming-with-python-and-pulp-part-2/ and thinking about how I can use it for the Blueprint Power work sample."
   ]
  },
  {
   "cell_type": "code",
   "execution_count": 289,
   "metadata": {
    "collapsed": true
   },
   "outputs": [],
   "source": [
    "import pulp\n",
    "#Good reminder: https://stackoverflow.com/questions/19410042/how-to-make-ipython-notebook-matplotlib-plot-inline\n",
    "import matplotlib\n",
    "import numpy as np\n",
    "import matplotlib.pyplot as plt\n",
    "import matplotlib.patches as mpatches\n",
    "%matplotlib inline  "
   ]
  },
  {
   "cell_type": "code",
   "execution_count": 48,
   "metadata": {
    "collapsed": true
   },
   "outputs": [],
   "source": [
    "my_lp_problem = pulp.LpProblem(\"Practice LP\", pulp.LpMaximize)"
   ]
  },
  {
   "cell_type": "code",
   "execution_count": 49,
   "metadata": {
    "collapsed": true
   },
   "outputs": [],
   "source": [
    "x = pulp.LpVariable('x', lowBound=0, cat='Continuous')\n",
    "y = pulp.LpVariable('y', lowBound=2, cat='Continuous')"
   ]
  },
  {
   "cell_type": "code",
   "execution_count": 50,
   "metadata": {
    "collapsed": false
   },
   "outputs": [
    {
     "data": {
      "text/plain": [
       "x"
      ]
     },
     "execution_count": 50,
     "metadata": {},
     "output_type": "execute_result"
    }
   ],
   "source": [
    "x"
   ]
  },
  {
   "cell_type": "code",
   "execution_count": 51,
   "metadata": {
    "collapsed": false
   },
   "outputs": [
    {
     "data": {
      "text/plain": [
       "y"
      ]
     },
     "execution_count": 51,
     "metadata": {},
     "output_type": "execute_result"
    }
   ],
   "source": [
    "y"
   ]
  },
  {
   "cell_type": "code",
   "execution_count": 52,
   "metadata": {
    "collapsed": false
   },
   "outputs": [
    {
     "data": {
      "text/plain": [
       "Practice LP:\n",
       "MAXIMIZE\n",
       "None\n",
       "VARIABLES"
      ]
     },
     "execution_count": 52,
     "metadata": {},
     "output_type": "execute_result"
    }
   ],
   "source": [
    "my_lp_problem"
   ]
  },
  {
   "cell_type": "code",
   "execution_count": 53,
   "metadata": {
    "collapsed": true
   },
   "outputs": [],
   "source": [
    "#Objective\n",
    "my_lp_problem += 4 * x + 3*y, \"Z\""
   ]
  },
  {
   "cell_type": "code",
   "execution_count": 54,
   "metadata": {
    "collapsed": false
   },
   "outputs": [
    {
     "data": {
      "text/plain": [
       "Practice LP:\n",
       "MAXIMIZE\n",
       "4*x + 3*y + 0\n",
       "VARIABLES\n",
       "x Continuous\n",
       "2 <= y Continuous"
      ]
     },
     "execution_count": 54,
     "metadata": {},
     "output_type": "execute_result"
    }
   ],
   "source": [
    "my_lp_problem"
   ]
  },
  {
   "cell_type": "code",
   "execution_count": 55,
   "metadata": {
    "collapsed": true
   },
   "outputs": [],
   "source": [
    "#Constraints\n",
    "my_lp_problem += 2 * y <= 25 - x"
   ]
  },
  {
   "cell_type": "code",
   "execution_count": 56,
   "metadata": {
    "collapsed": true
   },
   "outputs": [],
   "source": [
    "my_lp_problem += 4*y >= 2*x - 8"
   ]
  },
  {
   "cell_type": "code",
   "execution_count": 57,
   "metadata": {
    "collapsed": false
   },
   "outputs": [],
   "source": [
    "my_lp_problem += y <= 2*x - 5"
   ]
  },
  {
   "cell_type": "code",
   "execution_count": 58,
   "metadata": {
    "collapsed": false
   },
   "outputs": [
    {
     "data": {
      "text/plain": [
       "Practice LP:\n",
       "MAXIMIZE\n",
       "4*x + 3*y + 0\n",
       "SUBJECT TO\n",
       "_C1: x + 2 y <= 25\n",
       "\n",
       "_C2: - 2 x + 4 y >= -8\n",
       "\n",
       "_C3: - 2 x + y <= -5\n",
       "\n",
       "VARIABLES\n",
       "x Continuous\n",
       "2 <= y Continuous"
      ]
     },
     "execution_count": 58,
     "metadata": {},
     "output_type": "execute_result"
    }
   ],
   "source": [
    "my_lp_problem"
   ]
  },
  {
   "cell_type": "code",
   "execution_count": 59,
   "metadata": {
    "collapsed": false
   },
   "outputs": [
    {
     "data": {
      "text/plain": [
       "1"
      ]
     },
     "execution_count": 59,
     "metadata": {},
     "output_type": "execute_result"
    }
   ],
   "source": [
    "my_lp_problem.solve()"
   ]
  },
  {
   "cell_type": "code",
   "execution_count": 60,
   "metadata": {
    "collapsed": false
   },
   "outputs": [
    {
     "data": {
      "text/plain": [
       "'Optimal'"
      ]
     },
     "execution_count": 60,
     "metadata": {},
     "output_type": "execute_result"
    }
   ],
   "source": [
    "pulp.LpStatus[my_lp_problem.status]"
   ]
  },
  {
   "cell_type": "markdown",
   "metadata": {},
   "source": [
    "How to see the solution for the decision variables and objective function value"
   ]
  },
  {
   "cell_type": "code",
   "execution_count": 61,
   "metadata": {
    "collapsed": false
   },
   "outputs": [
    {
     "data": {
      "text/plain": [
       "[x, y]"
      ]
     },
     "execution_count": 61,
     "metadata": {},
     "output_type": "execute_result"
    }
   ],
   "source": [
    "my_lp_problem.variables()"
   ]
  },
  {
   "cell_type": "code",
   "execution_count": 62,
   "metadata": {
    "collapsed": false
   },
   "outputs": [
    {
     "data": {
      "text/plain": [
       "14.5"
      ]
     },
     "execution_count": 62,
     "metadata": {},
     "output_type": "execute_result"
    }
   ],
   "source": [
    "my_lp_problem.variables()[0].varValue"
   ]
  },
  {
   "cell_type": "code",
   "execution_count": 63,
   "metadata": {
    "collapsed": false
   },
   "outputs": [
    {
     "name": "stdout",
     "output_type": "stream",
     "text": [
      "x = 14.5\n",
      "y = 5.25\n"
     ]
    }
   ],
   "source": [
    "for variable in my_lp_problem.variables():\n",
    "    print(\"{} = {}\").format(variable.name, variable.varValue)"
   ]
  },
  {
   "cell_type": "code",
   "execution_count": 64,
   "metadata": {
    "collapsed": false
   },
   "outputs": [
    {
     "data": {
      "text/plain": [
       "73.75"
      ]
     },
     "execution_count": 64,
     "metadata": {},
     "output_type": "execute_result"
    }
   ],
   "source": [
    "pulp.value(my_lp_problem.objective)"
   ]
  },
  {
   "cell_type": "markdown",
   "metadata": {},
   "source": [
    "# Practice for my problem"
   ]
  },
  {
   "cell_type": "code",
   "execution_count": 117,
   "metadata": {
    "collapsed": true
   },
   "outputs": [],
   "source": [
    "many_strings = ('t_' + str(i) for i in range(0,24))"
   ]
  },
  {
   "cell_type": "code",
   "execution_count": 118,
   "metadata": {
    "collapsed": false
   },
   "outputs": [
    {
     "data": {
      "text/plain": [
       "<generator object <genexpr> at 0x10b43c7d0>"
      ]
     },
     "execution_count": 118,
     "metadata": {},
     "output_type": "execute_result"
    }
   ],
   "source": [
    "many_strings"
   ]
  },
  {
   "cell_type": "code",
   "execution_count": 119,
   "metadata": {
    "collapsed": false
   },
   "outputs": [
    {
     "data": {
      "text/plain": [
       "['t_0',\n",
       " 't_1',\n",
       " 't_2',\n",
       " 't_3',\n",
       " 't_4',\n",
       " 't_5',\n",
       " 't_6',\n",
       " 't_7',\n",
       " 't_8',\n",
       " 't_9',\n",
       " 't_10',\n",
       " 't_11',\n",
       " 't_12',\n",
       " 't_13',\n",
       " 't_14',\n",
       " 't_15',\n",
       " 't_16',\n",
       " 't_17',\n",
       " 't_18',\n",
       " 't_19',\n",
       " 't_20',\n",
       " 't_21',\n",
       " 't_22',\n",
       " 't_23']"
      ]
     },
     "execution_count": 119,
     "metadata": {},
     "output_type": "execute_result"
    }
   ],
   "source": [
    "list(many_strings)"
   ]
  },
  {
   "cell_type": "markdown",
   "metadata": {},
   "source": [
    "These bounds should be input to a function, that does the whole optimization and spits out the required data (possibly to be graphed by other functions)."
   ]
  },
  {
   "cell_type": "code",
   "execution_count": 120,
   "metadata": {
    "collapsed": false
   },
   "outputs": [],
   "source": [
    "charge = pulp.LpVariable.dicts(\"charging_power\",\n",
    "                                     ('c_t_' + str(i) for i in range(0,24)),\n",
    "                                     lowBound=0, upBound=100,\n",
    "                                     cat='Continuous')"
   ]
  },
  {
   "cell_type": "code",
   "execution_count": 121,
   "metadata": {
    "collapsed": false
   },
   "outputs": [],
   "source": [
    "# charge"
   ]
  },
  {
   "cell_type": "code",
   "execution_count": 122,
   "metadata": {
    "collapsed": true
   },
   "outputs": [],
   "source": [
    "discharge = pulp.LpVariable.dicts(\"discharging_power\",\n",
    "                                     ('d_t_' + str(i) for i in range(0,24)),\n",
    "                                     lowBound=0, upBound=100,\n",
    "                                     cat='Continuous')"
   ]
  },
  {
   "cell_type": "code",
   "execution_count": 214,
   "metadata": {
    "collapsed": true
   },
   "outputs": [],
   "source": [
    "my_lp_problem_2 = pulp.LpProblem(\"Energy arbitrage\", pulp.LpMaximize)"
   ]
  },
  {
   "cell_type": "code",
   "execution_count": 215,
   "metadata": {
    "collapsed": false
   },
   "outputs": [],
   "source": [
    "# From Example 5\n",
    "# model += pulp.lpSum(\n",
    "#     [production[month, factory] * factories.loc[(month, factory), 'Variable_Costs']\\\n",
    "# for month, factory in factories.index]\n",
    "#     + [factory_status[month, factory] * factories.loc[(month, factory), 'Fixed_Costs']\\\n",
    "# for month, factory in factories.index]\n",
    "# )"
   ]
  },
  {
   "cell_type": "markdown",
   "metadata": {},
   "source": [
    "Programmatically add up a bunch of decision variables for the objective function"
   ]
  },
  {
   "cell_type": "code",
   "execution_count": 216,
   "metadata": {
    "collapsed": true
   },
   "outputs": [],
   "source": [
    "my_lp_problem_2 += pulp.lpSum(charge[index] for index in ('c_t_' + str(i) for i in range(0,24)))"
   ]
  },
  {
   "cell_type": "code",
   "execution_count": 217,
   "metadata": {
    "collapsed": false
   },
   "outputs": [
    {
     "data": {
      "text/plain": [
       "Energy arbitrage:\n",
       "MAXIMIZE\n",
       "1*charging_power_c_t_0 + 1*charging_power_c_t_1 + 1*charging_power_c_t_10 + 1*charging_power_c_t_11 + 1*charging_power_c_t_12 + 1*charging_power_c_t_13 + 1*charging_power_c_t_14 + 1*charging_power_c_t_15 + 1*charging_power_c_t_16 + 1*charging_power_c_t_17 + 1*charging_power_c_t_18 + 1*charging_power_c_t_19 + 1*charging_power_c_t_2 + 1*charging_power_c_t_20 + 1*charging_power_c_t_21 + 1*charging_power_c_t_22 + 1*charging_power_c_t_23 + 1*charging_power_c_t_3 + 1*charging_power_c_t_4 + 1*charging_power_c_t_5 + 1*charging_power_c_t_6 + 1*charging_power_c_t_7 + 1*charging_power_c_t_8 + 1*charging_power_c_t_9 + 0\n",
       "VARIABLES\n",
       "charging_power_c_t_0 <= 100 Continuous\n",
       "charging_power_c_t_1 <= 100 Continuous\n",
       "charging_power_c_t_10 <= 100 Continuous\n",
       "charging_power_c_t_11 <= 100 Continuous\n",
       "charging_power_c_t_12 <= 100 Continuous\n",
       "charging_power_c_t_13 <= 100 Continuous\n",
       "charging_power_c_t_14 <= 100 Continuous\n",
       "charging_power_c_t_15 <= 100 Continuous\n",
       "charging_power_c_t_16 <= 100 Continuous\n",
       "charging_power_c_t_17 <= 100 Continuous\n",
       "charging_power_c_t_18 <= 100 Continuous\n",
       "charging_power_c_t_19 <= 100 Continuous\n",
       "charging_power_c_t_2 <= 100 Continuous\n",
       "charging_power_c_t_20 <= 100 Continuous\n",
       "charging_power_c_t_21 <= 100 Continuous\n",
       "charging_power_c_t_22 <= 100 Continuous\n",
       "charging_power_c_t_23 <= 100 Continuous\n",
       "charging_power_c_t_3 <= 100 Continuous\n",
       "charging_power_c_t_4 <= 100 Continuous\n",
       "charging_power_c_t_5 <= 100 Continuous\n",
       "charging_power_c_t_6 <= 100 Continuous\n",
       "charging_power_c_t_7 <= 100 Continuous\n",
       "charging_power_c_t_8 <= 100 Continuous\n",
       "charging_power_c_t_9 <= 100 Continuous"
      ]
     },
     "execution_count": 217,
     "metadata": {},
     "output_type": "execute_result"
    }
   ],
   "source": [
    "my_lp_problem_2"
   ]
  },
  {
   "cell_type": "markdown",
   "metadata": {},
   "source": [
    "Think I would need to do an affine expression to multiply the vector of costs by the charge/discharge rates. Here generate random numbers as the electricity prices for each hour of the 24 hour period. Make them somewhat realistic, on the scale of what a quick glance at the csv files reveals (~10 $/MWh):"
   ]
  },
  {
   "cell_type": "code",
   "execution_count": 218,
   "metadata": {
    "collapsed": false
   },
   "outputs": [],
   "source": [
    "rand_prices = np.random.rand(24)*10"
   ]
  },
  {
   "cell_type": "code",
   "execution_count": 219,
   "metadata": {
    "collapsed": false
   },
   "outputs": [
    {
     "data": {
      "text/plain": [
       "array([ 5.66165674,  5.30442762,  8.68618886,  9.15909294,  7.67813125,\n",
       "        4.07351703,  3.32896535,  7.81746253,  7.20815099,  6.25835234,\n",
       "        1.00339978,  1.84280266,  6.48358536,  9.36762262,  9.01886173,\n",
       "        1.06143766,  5.39240871,  0.56504499,  7.64003832,  7.16140326,\n",
       "        4.83223679,  9.54921356,  6.12887963,  2.24380135])"
      ]
     },
     "execution_count": 219,
     "metadata": {},
     "output_type": "execute_result"
    }
   ],
   "source": [
    "rand_prices"
   ]
  },
  {
   "cell_type": "code",
   "execution_count": 220,
   "metadata": {
    "collapsed": false
   },
   "outputs": [
    {
     "data": {
      "text/plain": [
       "LpAffineExpression([(charging_power_c_t_0, 5.6616567434622507),\n",
       "                    (charging_power_c_t_1, 5.3044276200413476),\n",
       "                    (charging_power_c_t_2, 8.6861888630865369),\n",
       "                    (charging_power_c_t_3, 9.159092943382559),\n",
       "                    (charging_power_c_t_4, 7.6781312500043972),\n",
       "                    (charging_power_c_t_5, 4.0735170309656263),\n",
       "                    (charging_power_c_t_6, 3.3289653462905235),\n",
       "                    (charging_power_c_t_7, 7.8174625281317951),\n",
       "                    (charging_power_c_t_8, 7.2081509913864403),\n",
       "                    (charging_power_c_t_9, 6.2583523416619711),\n",
       "                    (charging_power_c_t_10, 1.0033997836108077),\n",
       "                    (charging_power_c_t_11, 1.842802663559282),\n",
       "                    (charging_power_c_t_12, 6.4835853583035741),\n",
       "                    (charging_power_c_t_13, 9.3676226225112238),\n",
       "                    (charging_power_c_t_14, 9.0188617344727344),\n",
       "                    (charging_power_c_t_15, 1.0614376583740592),\n",
       "                    (charging_power_c_t_16, 5.3924087129862119),\n",
       "                    (charging_power_c_t_17, 0.56504499163538502),\n",
       "                    (charging_power_c_t_18, 7.6400383172689423),\n",
       "                    (charging_power_c_t_19, 7.1614032646484507),\n",
       "                    (charging_power_c_t_20, 4.832236788652386),\n",
       "                    (charging_power_c_t_21, 9.5492135610351632),\n",
       "                    (charging_power_c_t_22, 6.1288796321621222),\n",
       "                    (charging_power_c_t_23, 2.2438013459395401)])"
      ]
     },
     "execution_count": 220,
     "metadata": {},
     "output_type": "execute_result"
    }
   ],
   "source": [
    "pulp.LpAffineExpression([(charge['c_t_' + str(i)], rand_prices[i]) for i in range(0,24)])"
   ]
  },
  {
   "cell_type": "code",
   "execution_count": 221,
   "metadata": {
    "collapsed": false
   },
   "outputs": [],
   "source": [
    "my_lp_problem_2 += pulp.LpAffineExpression([(charge['c_t_' + str(i)],\n",
    "                                             rand_prices[i]) for i in range(0,24)])"
   ]
  },
  {
   "cell_type": "code",
   "execution_count": 222,
   "metadata": {
    "collapsed": false
   },
   "outputs": [
    {
     "data": {
      "text/plain": [
       "Energy arbitrage:\n",
       "MAXIMIZE\n",
       "5.66165674346*charging_power_c_t_0 + 5.30442762004*charging_power_c_t_1 + 1.00339978361*charging_power_c_t_10 + 1.84280266356*charging_power_c_t_11 + 6.4835853583*charging_power_c_t_12 + 9.36762262251*charging_power_c_t_13 + 9.01886173447*charging_power_c_t_14 + 1.06143765837*charging_power_c_t_15 + 5.39240871299*charging_power_c_t_16 + 0.565044991635*charging_power_c_t_17 + 7.64003831727*charging_power_c_t_18 + 7.16140326465*charging_power_c_t_19 + 8.68618886309*charging_power_c_t_2 + 4.83223678865*charging_power_c_t_20 + 9.54921356104*charging_power_c_t_21 + 6.12887963216*charging_power_c_t_22 + 2.24380134594*charging_power_c_t_23 + 9.15909294338*charging_power_c_t_3 + 7.67813125*charging_power_c_t_4 + 4.07351703097*charging_power_c_t_5 + 3.32896534629*charging_power_c_t_6 + 7.81746252813*charging_power_c_t_7 + 7.20815099139*charging_power_c_t_8 + 6.25835234166*charging_power_c_t_9 + 0\n",
       "VARIABLES\n",
       "charging_power_c_t_0 <= 100 Continuous\n",
       "charging_power_c_t_1 <= 100 Continuous\n",
       "charging_power_c_t_10 <= 100 Continuous\n",
       "charging_power_c_t_11 <= 100 Continuous\n",
       "charging_power_c_t_12 <= 100 Continuous\n",
       "charging_power_c_t_13 <= 100 Continuous\n",
       "charging_power_c_t_14 <= 100 Continuous\n",
       "charging_power_c_t_15 <= 100 Continuous\n",
       "charging_power_c_t_16 <= 100 Continuous\n",
       "charging_power_c_t_17 <= 100 Continuous\n",
       "charging_power_c_t_18 <= 100 Continuous\n",
       "charging_power_c_t_19 <= 100 Continuous\n",
       "charging_power_c_t_2 <= 100 Continuous\n",
       "charging_power_c_t_20 <= 100 Continuous\n",
       "charging_power_c_t_21 <= 100 Continuous\n",
       "charging_power_c_t_22 <= 100 Continuous\n",
       "charging_power_c_t_23 <= 100 Continuous\n",
       "charging_power_c_t_3 <= 100 Continuous\n",
       "charging_power_c_t_4 <= 100 Continuous\n",
       "charging_power_c_t_5 <= 100 Continuous\n",
       "charging_power_c_t_6 <= 100 Continuous\n",
       "charging_power_c_t_7 <= 100 Continuous\n",
       "charging_power_c_t_8 <= 100 Continuous\n",
       "charging_power_c_t_9 <= 100 Continuous"
      ]
     },
     "execution_count": 222,
     "metadata": {},
     "output_type": "execute_result"
    }
   ],
   "source": [
    "my_lp_problem_2"
   ]
  },
  {
   "cell_type": "markdown",
   "metadata": {},
   "source": [
    "So this shows me a few things:\n",
    "- I have to set the whole objective at once (got warning when re-defining?)\n",
    "- I can do a dot product like above, with hourly prices times hourly charging rate\n",
    "-- hopefully the easier case of multiplying a chosen constant (efficiency) would be as easy, but actually I think I can just use efficiency in the contraints\n",
    "- After figuring out how to add both the discharges and charges for a 24 period to the objective function, it seems I'm ready to define constraints and try and solve\n",
    "\n",
    "So, roughly speaking, to set up a pulp problem, first one instantiates the problem class, then defines some variables (I suppose could be done before instantiating), then formulates the objective function by adding an expression to the instance of the problem class, and the constraints by adding additional expressions. So the objective must be defined all at once, because it seems subsequent things added to the instance are considered constraints."
   ]
  },
  {
   "cell_type": "markdown",
   "metadata": {},
   "source": [
    "Now, to try formulating the objective as in Sioshani et al. (2008)."
   ]
  },
  {
   "cell_type": "code",
   "execution_count": 223,
   "metadata": {
    "collapsed": false
   },
   "outputs": [
    {
     "data": {
      "text/plain": [
       "array([ 5.66165674,  5.30442762,  8.68618886,  9.15909294,  7.67813125,\n",
       "        4.07351703,  3.32896535,  7.81746253,  7.20815099,  6.25835234,\n",
       "        1.00339978,  1.84280266,  6.48358536,  9.36762262,  9.01886173,\n",
       "        1.06143766,  5.39240871,  0.56504499,  7.64003832,  7.16140326,\n",
       "        4.83223679,  9.54921356,  6.12887963,  2.24380135])"
      ]
     },
     "execution_count": 223,
     "metadata": {},
     "output_type": "execute_result"
    }
   ],
   "source": [
    "rand_prices"
   ]
  },
  {
   "cell_type": "code",
   "execution_count": 224,
   "metadata": {
    "collapsed": true
   },
   "outputs": [],
   "source": [
    "my_lp_problem_2 += pulp.LpAffineExpression([(charge['c_t_' + str(i)],\n",
    "                                             -1*rand_prices[i]) for i in range(0,24)]) +\\\n",
    "pulp.LpAffineExpression([(discharge['d_t_' + str(i)],\n",
    "                                             rand_prices[i]) for i in range(0,24)])"
   ]
  },
  {
   "cell_type": "code",
   "execution_count": 225,
   "metadata": {
    "collapsed": false
   },
   "outputs": [
    {
     "data": {
      "text/plain": [
       "Energy arbitrage:\n",
       "MAXIMIZE\n",
       "-5.66165674346*charging_power_c_t_0 + -5.30442762004*charging_power_c_t_1 + -1.00339978361*charging_power_c_t_10 + -1.84280266356*charging_power_c_t_11 + -6.4835853583*charging_power_c_t_12 + -9.36762262251*charging_power_c_t_13 + -9.01886173447*charging_power_c_t_14 + -1.06143765837*charging_power_c_t_15 + -5.39240871299*charging_power_c_t_16 + -0.565044991635*charging_power_c_t_17 + -7.64003831727*charging_power_c_t_18 + -7.16140326465*charging_power_c_t_19 + -8.68618886309*charging_power_c_t_2 + -4.83223678865*charging_power_c_t_20 + -9.54921356104*charging_power_c_t_21 + -6.12887963216*charging_power_c_t_22 + -2.24380134594*charging_power_c_t_23 + -9.15909294338*charging_power_c_t_3 + -7.67813125*charging_power_c_t_4 + -4.07351703097*charging_power_c_t_5 + -3.32896534629*charging_power_c_t_6 + -7.81746252813*charging_power_c_t_7 + -7.20815099139*charging_power_c_t_8 + -6.25835234166*charging_power_c_t_9 + 5.66165674346*discharging_power_d_t_0 + 5.30442762004*discharging_power_d_t_1 + 1.00339978361*discharging_power_d_t_10 + 1.84280266356*discharging_power_d_t_11 + 6.4835853583*discharging_power_d_t_12 + 9.36762262251*discharging_power_d_t_13 + 9.01886173447*discharging_power_d_t_14 + 1.06143765837*discharging_power_d_t_15 + 5.39240871299*discharging_power_d_t_16 + 0.565044991635*discharging_power_d_t_17 + 7.64003831727*discharging_power_d_t_18 + 7.16140326465*discharging_power_d_t_19 + 8.68618886309*discharging_power_d_t_2 + 4.83223678865*discharging_power_d_t_20 + 9.54921356104*discharging_power_d_t_21 + 6.12887963216*discharging_power_d_t_22 + 2.24380134594*discharging_power_d_t_23 + 9.15909294338*discharging_power_d_t_3 + 7.67813125*discharging_power_d_t_4 + 4.07351703097*discharging_power_d_t_5 + 3.32896534629*discharging_power_d_t_6 + 7.81746252813*discharging_power_d_t_7 + 7.20815099139*discharging_power_d_t_8 + 6.25835234166*discharging_power_d_t_9 + 0\n",
       "VARIABLES\n",
       "charging_power_c_t_0 <= 100 Continuous\n",
       "charging_power_c_t_1 <= 100 Continuous\n",
       "charging_power_c_t_10 <= 100 Continuous\n",
       "charging_power_c_t_11 <= 100 Continuous\n",
       "charging_power_c_t_12 <= 100 Continuous\n",
       "charging_power_c_t_13 <= 100 Continuous\n",
       "charging_power_c_t_14 <= 100 Continuous\n",
       "charging_power_c_t_15 <= 100 Continuous\n",
       "charging_power_c_t_16 <= 100 Continuous\n",
       "charging_power_c_t_17 <= 100 Continuous\n",
       "charging_power_c_t_18 <= 100 Continuous\n",
       "charging_power_c_t_19 <= 100 Continuous\n",
       "charging_power_c_t_2 <= 100 Continuous\n",
       "charging_power_c_t_20 <= 100 Continuous\n",
       "charging_power_c_t_21 <= 100 Continuous\n",
       "charging_power_c_t_22 <= 100 Continuous\n",
       "charging_power_c_t_23 <= 100 Continuous\n",
       "charging_power_c_t_3 <= 100 Continuous\n",
       "charging_power_c_t_4 <= 100 Continuous\n",
       "charging_power_c_t_5 <= 100 Continuous\n",
       "charging_power_c_t_6 <= 100 Continuous\n",
       "charging_power_c_t_7 <= 100 Continuous\n",
       "charging_power_c_t_8 <= 100 Continuous\n",
       "charging_power_c_t_9 <= 100 Continuous\n",
       "discharging_power_d_t_0 <= 100 Continuous\n",
       "discharging_power_d_t_1 <= 100 Continuous\n",
       "discharging_power_d_t_10 <= 100 Continuous\n",
       "discharging_power_d_t_11 <= 100 Continuous\n",
       "discharging_power_d_t_12 <= 100 Continuous\n",
       "discharging_power_d_t_13 <= 100 Continuous\n",
       "discharging_power_d_t_14 <= 100 Continuous\n",
       "discharging_power_d_t_15 <= 100 Continuous\n",
       "discharging_power_d_t_16 <= 100 Continuous\n",
       "discharging_power_d_t_17 <= 100 Continuous\n",
       "discharging_power_d_t_18 <= 100 Continuous\n",
       "discharging_power_d_t_19 <= 100 Continuous\n",
       "discharging_power_d_t_2 <= 100 Continuous\n",
       "discharging_power_d_t_20 <= 100 Continuous\n",
       "discharging_power_d_t_21 <= 100 Continuous\n",
       "discharging_power_d_t_22 <= 100 Continuous\n",
       "discharging_power_d_t_23 <= 100 Continuous\n",
       "discharging_power_d_t_3 <= 100 Continuous\n",
       "discharging_power_d_t_4 <= 100 Continuous\n",
       "discharging_power_d_t_5 <= 100 Continuous\n",
       "discharging_power_d_t_6 <= 100 Continuous\n",
       "discharging_power_d_t_7 <= 100 Continuous\n",
       "discharging_power_d_t_8 <= 100 Continuous\n",
       "discharging_power_d_t_9 <= 100 Continuous"
      ]
     },
     "execution_count": 225,
     "metadata": {},
     "output_type": "execute_result"
    }
   ],
   "source": [
    "my_lp_problem_2"
   ]
  },
  {
   "cell_type": "markdown",
   "metadata": {},
   "source": [
    "The constraints on charge and discharge rate are already built in to these variable definitions.\n",
    "\n",
    "Other constraints are discharge capacity (which will include effiency) and maximum daily discharged throughput."
   ]
  },
  {
   "cell_type": "markdown",
   "metadata": {},
   "source": [
    "### Capacity constraint"
   ]
  },
  {
   "cell_type": "markdown",
   "metadata": {},
   "source": [
    "The energy in the battery cannot be less than zero (but can go to zero: \"The battery storage system has 100% depth of discharge capabilities\"). The energy in the battery should be continuous: \"The battery storage’s State of Energy SHALL be continuous between optimization time horizon boundaries\", which I think it would be since I will be calculating the state of energy using an initial value (the energy at noon today) and adding the sums of charge and discharge over the 24 hour period (which are continuous variables as defined above).\n",
    "\n",
    "11/4: I note this can't be right; all this says is that the battery has to end the day with greater than zero charge. I need constraints that say the battery's charge at every time step has to be greater than zero."
   ]
  },
  {
   "cell_type": "code",
   "execution_count": 314,
   "metadata": {
    "collapsed": false
   },
   "outputs": [
    {
     "data": {
      "text/plain": [
       "[1,\n",
       " 2,\n",
       " 3,\n",
       " 4,\n",
       " 5,\n",
       " 6,\n",
       " 7,\n",
       " 8,\n",
       " 9,\n",
       " 10,\n",
       " 11,\n",
       " 12,\n",
       " 13,\n",
       " 14,\n",
       " 15,\n",
       " 16,\n",
       " 17,\n",
       " 18,\n",
       " 19,\n",
       " 20,\n",
       " 21,\n",
       " 22,\n",
       " 23]"
      ]
     },
     "execution_count": 314,
     "metadata": {},
     "output_type": "execute_result"
    }
   ],
   "source": [
    "list(range(1,24))"
   ]
  },
  {
   "cell_type": "code",
   "execution_count": 226,
   "metadata": {
    "collapsed": true
   },
   "outputs": [],
   "source": [
    "#Storage level constraint\n",
    "\n",
    "#Assume half-way charged for day 1.  Subsequent days build on this.\n",
    "initial_level = 100\n",
    "#\"AC-AC round trip efficiency = 85%\"\n",
    "efficiency = 0.85\n",
    "#\"Discharge energy capacity = 200 kWh\"\n",
    "max_capacity = 200\n",
    "#\"The battery storage system has 100% depth of discharge capabilities\"\n",
    "min_capacity = 0"
   ]
  },
  {
   "cell_type": "markdown",
   "metadata": {},
   "source": [
    "*** Need to redefine below, to include hourly check and not just daily***"
   ]
  },
  {
   "cell_type": "code",
   "execution_count": 227,
   "metadata": {
    "collapsed": true
   },
   "outputs": [],
   "source": [
    "my_lp_problem_2 += \\\n",
    "initial_level \\\n",
    "+ pulp.LpAffineExpression([(charge['c_t_' + str(i)], efficiency) for i in range(0,24)]) \\\n",
    "- pulp.lpSum(discharge[index] for index in ('d_t_' + str(i) for i in range(0,24))) >= \\\n",
    "    min_capacity"
   ]
  },
  {
   "cell_type": "code",
   "execution_count": 297,
   "metadata": {
    "collapsed": false
   },
   "outputs": [],
   "source": [
    "# my_lp_problem_2"
   ]
  },
  {
   "cell_type": "markdown",
   "metadata": {},
   "source": [
    "Looks like that worked. I think the units will serendipitously work out here since the time step is hourly, the rates are in kW, and the capacities are in kWh. So the constraint added above says that the battery cannot have less than zero charge. Need a constraint saying the battery cannot have more than its maximum capacity:"
   ]
  },
  {
   "cell_type": "code",
   "execution_count": 229,
   "metadata": {
    "collapsed": true
   },
   "outputs": [],
   "source": [
    "my_lp_problem_2 += \\\n",
    "initial_level \\\n",
    "+ pulp.LpAffineExpression([(charge['c_t_' + str(i)], efficiency) for i in range(0,24)]) \\\n",
    "- pulp.lpSum(discharge[index] for index in ('d_t_' + str(i) for i in range(0,24))) \\\n",
    "    <= max_capacity"
   ]
  },
  {
   "cell_type": "code",
   "execution_count": 230,
   "metadata": {
    "collapsed": false,
    "scrolled": false
   },
   "outputs": [],
   "source": [
    "#These start to get large\n",
    "# my_lp_problem_2"
   ]
  },
  {
   "cell_type": "markdown",
   "metadata": {},
   "source": [
    "### Throughput constraint\n",
    "Finally, need a constraint expressing \"Maximum daily discharged throughput (kWh) = 200 kWh\". For now I am assuming this is the sum of all charge and discharge flows."
   ]
  },
  {
   "cell_type": "code",
   "execution_count": 231,
   "metadata": {
    "collapsed": true
   },
   "outputs": [],
   "source": [
    "# \"Maximum daily discharged throughput (kWh) = 200 kWh\"\n",
    "max_throughput = 200"
   ]
  },
  {
   "cell_type": "code",
   "execution_count": 232,
   "metadata": {
    "collapsed": true
   },
   "outputs": [],
   "source": [
    "my_lp_problem_2 += \\\n",
    "pulp.lpSum(charge[index] for index in ('c_t_' + str(i) for i in range(0,24))) \\\n",
    "+ pulp.lpSum(discharge[index] for index in ('d_t_' + str(i) for i in range(0,24))) \\\n",
    "    <= max_throughput"
   ]
  },
  {
   "cell_type": "code",
   "execution_count": 233,
   "metadata": {
    "collapsed": false,
    "scrolled": false
   },
   "outputs": [
    {
     "data": {
      "text/plain": [
       "Energy arbitrage:\n",
       "MAXIMIZE\n",
       "-5.66165674346*charging_power_c_t_0 + -5.30442762004*charging_power_c_t_1 + -1.00339978361*charging_power_c_t_10 + -1.84280266356*charging_power_c_t_11 + -6.4835853583*charging_power_c_t_12 + -9.36762262251*charging_power_c_t_13 + -9.01886173447*charging_power_c_t_14 + -1.06143765837*charging_power_c_t_15 + -5.39240871299*charging_power_c_t_16 + -0.565044991635*charging_power_c_t_17 + -7.64003831727*charging_power_c_t_18 + -7.16140326465*charging_power_c_t_19 + -8.68618886309*charging_power_c_t_2 + -4.83223678865*charging_power_c_t_20 + -9.54921356104*charging_power_c_t_21 + -6.12887963216*charging_power_c_t_22 + -2.24380134594*charging_power_c_t_23 + -9.15909294338*charging_power_c_t_3 + -7.67813125*charging_power_c_t_4 + -4.07351703097*charging_power_c_t_5 + -3.32896534629*charging_power_c_t_6 + -7.81746252813*charging_power_c_t_7 + -7.20815099139*charging_power_c_t_8 + -6.25835234166*charging_power_c_t_9 + 5.66165674346*discharging_power_d_t_0 + 5.30442762004*discharging_power_d_t_1 + 1.00339978361*discharging_power_d_t_10 + 1.84280266356*discharging_power_d_t_11 + 6.4835853583*discharging_power_d_t_12 + 9.36762262251*discharging_power_d_t_13 + 9.01886173447*discharging_power_d_t_14 + 1.06143765837*discharging_power_d_t_15 + 5.39240871299*discharging_power_d_t_16 + 0.565044991635*discharging_power_d_t_17 + 7.64003831727*discharging_power_d_t_18 + 7.16140326465*discharging_power_d_t_19 + 8.68618886309*discharging_power_d_t_2 + 4.83223678865*discharging_power_d_t_20 + 9.54921356104*discharging_power_d_t_21 + 6.12887963216*discharging_power_d_t_22 + 2.24380134594*discharging_power_d_t_23 + 9.15909294338*discharging_power_d_t_3 + 7.67813125*discharging_power_d_t_4 + 4.07351703097*discharging_power_d_t_5 + 3.32896534629*discharging_power_d_t_6 + 7.81746252813*discharging_power_d_t_7 + 7.20815099139*discharging_power_d_t_8 + 6.25835234166*discharging_power_d_t_9 + 0\n",
       "SUBJECT TO\n",
       "_C1: 0.85 charging_power_c_t_0 + 0.85 charging_power_c_t_1\n",
       " + 0.85 charging_power_c_t_10 + 0.85 charging_power_c_t_11\n",
       " + 0.85 charging_power_c_t_12 + 0.85 charging_power_c_t_13\n",
       " + 0.85 charging_power_c_t_14 + 0.85 charging_power_c_t_15\n",
       " + 0.85 charging_power_c_t_16 + 0.85 charging_power_c_t_17\n",
       " + 0.85 charging_power_c_t_18 + 0.85 charging_power_c_t_19\n",
       " + 0.85 charging_power_c_t_2 + 0.85 charging_power_c_t_20\n",
       " + 0.85 charging_power_c_t_21 + 0.85 charging_power_c_t_22\n",
       " + 0.85 charging_power_c_t_23 + 0.85 charging_power_c_t_3\n",
       " + 0.85 charging_power_c_t_4 + 0.85 charging_power_c_t_5\n",
       " + 0.85 charging_power_c_t_6 + 0.85 charging_power_c_t_7\n",
       " + 0.85 charging_power_c_t_8 + 0.85 charging_power_c_t_9\n",
       " - discharging_power_d_t_0 - discharging_power_d_t_1\n",
       " - discharging_power_d_t_10 - discharging_power_d_t_11\n",
       " - discharging_power_d_t_12 - discharging_power_d_t_13\n",
       " - discharging_power_d_t_14 - discharging_power_d_t_15\n",
       " - discharging_power_d_t_16 - discharging_power_d_t_17\n",
       " - discharging_power_d_t_18 - discharging_power_d_t_19\n",
       " - discharging_power_d_t_2 - discharging_power_d_t_20\n",
       " - discharging_power_d_t_21 - discharging_power_d_t_22\n",
       " - discharging_power_d_t_23 - discharging_power_d_t_3\n",
       " - discharging_power_d_t_4 - discharging_power_d_t_5 - discharging_power_d_t_6\n",
       " - discharging_power_d_t_7 - discharging_power_d_t_8 - discharging_power_d_t_9\n",
       " >= -100\n",
       "\n",
       "_C2: 0.85 charging_power_c_t_0 + 0.85 charging_power_c_t_1\n",
       " + 0.85 charging_power_c_t_10 + 0.85 charging_power_c_t_11\n",
       " + 0.85 charging_power_c_t_12 + 0.85 charging_power_c_t_13\n",
       " + 0.85 charging_power_c_t_14 + 0.85 charging_power_c_t_15\n",
       " + 0.85 charging_power_c_t_16 + 0.85 charging_power_c_t_17\n",
       " + 0.85 charging_power_c_t_18 + 0.85 charging_power_c_t_19\n",
       " + 0.85 charging_power_c_t_2 + 0.85 charging_power_c_t_20\n",
       " + 0.85 charging_power_c_t_21 + 0.85 charging_power_c_t_22\n",
       " + 0.85 charging_power_c_t_23 + 0.85 charging_power_c_t_3\n",
       " + 0.85 charging_power_c_t_4 + 0.85 charging_power_c_t_5\n",
       " + 0.85 charging_power_c_t_6 + 0.85 charging_power_c_t_7\n",
       " + 0.85 charging_power_c_t_8 + 0.85 charging_power_c_t_9\n",
       " - discharging_power_d_t_0 - discharging_power_d_t_1\n",
       " - discharging_power_d_t_10 - discharging_power_d_t_11\n",
       " - discharging_power_d_t_12 - discharging_power_d_t_13\n",
       " - discharging_power_d_t_14 - discharging_power_d_t_15\n",
       " - discharging_power_d_t_16 - discharging_power_d_t_17\n",
       " - discharging_power_d_t_18 - discharging_power_d_t_19\n",
       " - discharging_power_d_t_2 - discharging_power_d_t_20\n",
       " - discharging_power_d_t_21 - discharging_power_d_t_22\n",
       " - discharging_power_d_t_23 - discharging_power_d_t_3\n",
       " - discharging_power_d_t_4 - discharging_power_d_t_5 - discharging_power_d_t_6\n",
       " - discharging_power_d_t_7 - discharging_power_d_t_8 - discharging_power_d_t_9\n",
       " <= 100\n",
       "\n",
       "_C3: charging_power_c_t_0 + charging_power_c_t_1 + charging_power_c_t_10\n",
       " + charging_power_c_t_11 + charging_power_c_t_12 + charging_power_c_t_13\n",
       " + charging_power_c_t_14 + charging_power_c_t_15 + charging_power_c_t_16\n",
       " + charging_power_c_t_17 + charging_power_c_t_18 + charging_power_c_t_19\n",
       " + charging_power_c_t_2 + charging_power_c_t_20 + charging_power_c_t_21\n",
       " + charging_power_c_t_22 + charging_power_c_t_23 + charging_power_c_t_3\n",
       " + charging_power_c_t_4 + charging_power_c_t_5 + charging_power_c_t_6\n",
       " + charging_power_c_t_7 + charging_power_c_t_8 + charging_power_c_t_9\n",
       " + discharging_power_d_t_0 + discharging_power_d_t_1\n",
       " + discharging_power_d_t_10 + discharging_power_d_t_11\n",
       " + discharging_power_d_t_12 + discharging_power_d_t_13\n",
       " + discharging_power_d_t_14 + discharging_power_d_t_15\n",
       " + discharging_power_d_t_16 + discharging_power_d_t_17\n",
       " + discharging_power_d_t_18 + discharging_power_d_t_19\n",
       " + discharging_power_d_t_2 + discharging_power_d_t_20\n",
       " + discharging_power_d_t_21 + discharging_power_d_t_22\n",
       " + discharging_power_d_t_23 + discharging_power_d_t_3\n",
       " + discharging_power_d_t_4 + discharging_power_d_t_5 + discharging_power_d_t_6\n",
       " + discharging_power_d_t_7 + discharging_power_d_t_8 + discharging_power_d_t_9\n",
       " <= 200\n",
       "\n",
       "VARIABLES\n",
       "charging_power_c_t_0 <= 100 Continuous\n",
       "charging_power_c_t_1 <= 100 Continuous\n",
       "charging_power_c_t_10 <= 100 Continuous\n",
       "charging_power_c_t_11 <= 100 Continuous\n",
       "charging_power_c_t_12 <= 100 Continuous\n",
       "charging_power_c_t_13 <= 100 Continuous\n",
       "charging_power_c_t_14 <= 100 Continuous\n",
       "charging_power_c_t_15 <= 100 Continuous\n",
       "charging_power_c_t_16 <= 100 Continuous\n",
       "charging_power_c_t_17 <= 100 Continuous\n",
       "charging_power_c_t_18 <= 100 Continuous\n",
       "charging_power_c_t_19 <= 100 Continuous\n",
       "charging_power_c_t_2 <= 100 Continuous\n",
       "charging_power_c_t_20 <= 100 Continuous\n",
       "charging_power_c_t_21 <= 100 Continuous\n",
       "charging_power_c_t_22 <= 100 Continuous\n",
       "charging_power_c_t_23 <= 100 Continuous\n",
       "charging_power_c_t_3 <= 100 Continuous\n",
       "charging_power_c_t_4 <= 100 Continuous\n",
       "charging_power_c_t_5 <= 100 Continuous\n",
       "charging_power_c_t_6 <= 100 Continuous\n",
       "charging_power_c_t_7 <= 100 Continuous\n",
       "charging_power_c_t_8 <= 100 Continuous\n",
       "charging_power_c_t_9 <= 100 Continuous\n",
       "discharging_power_d_t_0 <= 100 Continuous\n",
       "discharging_power_d_t_1 <= 100 Continuous\n",
       "discharging_power_d_t_10 <= 100 Continuous\n",
       "discharging_power_d_t_11 <= 100 Continuous\n",
       "discharging_power_d_t_12 <= 100 Continuous\n",
       "discharging_power_d_t_13 <= 100 Continuous\n",
       "discharging_power_d_t_14 <= 100 Continuous\n",
       "discharging_power_d_t_15 <= 100 Continuous\n",
       "discharging_power_d_t_16 <= 100 Continuous\n",
       "discharging_power_d_t_17 <= 100 Continuous\n",
       "discharging_power_d_t_18 <= 100 Continuous\n",
       "discharging_power_d_t_19 <= 100 Continuous\n",
       "discharging_power_d_t_2 <= 100 Continuous\n",
       "discharging_power_d_t_20 <= 100 Continuous\n",
       "discharging_power_d_t_21 <= 100 Continuous\n",
       "discharging_power_d_t_22 <= 100 Continuous\n",
       "discharging_power_d_t_23 <= 100 Continuous\n",
       "discharging_power_d_t_3 <= 100 Continuous\n",
       "discharging_power_d_t_4 <= 100 Continuous\n",
       "discharging_power_d_t_5 <= 100 Continuous\n",
       "discharging_power_d_t_6 <= 100 Continuous\n",
       "discharging_power_d_t_7 <= 100 Continuous\n",
       "discharging_power_d_t_8 <= 100 Continuous\n",
       "discharging_power_d_t_9 <= 100 Continuous"
      ]
     },
     "execution_count": 233,
     "metadata": {},
     "output_type": "execute_result"
    }
   ],
   "source": [
    "my_lp_problem_2"
   ]
  },
  {
   "cell_type": "markdown",
   "metadata": {},
   "source": [
    "This problem now set up and ready to solve."
   ]
  },
  {
   "cell_type": "code",
   "execution_count": 234,
   "metadata": {
    "collapsed": false
   },
   "outputs": [
    {
     "data": {
      "text/plain": [
       "1"
      ]
     },
     "execution_count": 234,
     "metadata": {},
     "output_type": "execute_result"
    }
   ],
   "source": [
    "my_lp_problem_2.solve()"
   ]
  },
  {
   "cell_type": "code",
   "execution_count": 235,
   "metadata": {
    "collapsed": false
   },
   "outputs": [
    {
     "data": {
      "text/plain": [
       "'Optimal'"
      ]
     },
     "execution_count": 235,
     "metadata": {},
     "output_type": "execute_result"
    }
   ],
   "source": [
    "pulp.LpStatus[my_lp_problem_2.status]"
   ]
  },
  {
   "cell_type": "markdown",
   "metadata": {},
   "source": [
    "An optimal solution has been found. What are the values of the decision variables? These can be used to calculate all required information about the battery at an hourly time step, and integrated to daily, weekly, monthly, and annualy."
   ]
  },
  {
   "cell_type": "code",
   "execution_count": 236,
   "metadata": {
    "collapsed": false
   },
   "outputs": [
    {
     "name": "stdout",
     "output_type": "stream",
     "text": [
      "charging_power_c_t_0 = 0.0\n",
      "charging_power_c_t_1 = 0.0\n",
      "charging_power_c_t_10 = 0.0\n",
      "charging_power_c_t_11 = 0.0\n",
      "charging_power_c_t_12 = 0.0\n",
      "charging_power_c_t_13 = 0.0\n",
      "charging_power_c_t_14 = 0.0\n",
      "charging_power_c_t_15 = 0.0\n",
      "charging_power_c_t_16 = 0.0\n",
      "charging_power_c_t_17 = 54.054054\n",
      "charging_power_c_t_18 = 0.0\n",
      "charging_power_c_t_19 = 0.0\n",
      "charging_power_c_t_2 = 0.0\n",
      "charging_power_c_t_20 = 0.0\n",
      "charging_power_c_t_21 = 0.0\n",
      "charging_power_c_t_22 = 0.0\n",
      "charging_power_c_t_23 = 0.0\n",
      "charging_power_c_t_3 = 0.0\n",
      "charging_power_c_t_4 = 0.0\n",
      "charging_power_c_t_5 = 0.0\n",
      "charging_power_c_t_6 = 0.0\n",
      "charging_power_c_t_7 = 0.0\n",
      "charging_power_c_t_8 = 0.0\n",
      "charging_power_c_t_9 = 0.0\n",
      "discharging_power_d_t_0 = 0.0\n",
      "discharging_power_d_t_1 = 0.0\n",
      "discharging_power_d_t_10 = 0.0\n",
      "discharging_power_d_t_11 = 0.0\n",
      "discharging_power_d_t_12 = 0.0\n",
      "discharging_power_d_t_13 = 45.945946\n",
      "discharging_power_d_t_14 = 0.0\n",
      "discharging_power_d_t_15 = 0.0\n",
      "discharging_power_d_t_16 = 0.0\n",
      "discharging_power_d_t_17 = 0.0\n",
      "discharging_power_d_t_18 = 0.0\n",
      "discharging_power_d_t_19 = 0.0\n",
      "discharging_power_d_t_2 = 0.0\n",
      "discharging_power_d_t_20 = 0.0\n",
      "discharging_power_d_t_21 = 100.0\n",
      "discharging_power_d_t_22 = 0.0\n",
      "discharging_power_d_t_23 = 0.0\n",
      "discharging_power_d_t_3 = 0.0\n",
      "discharging_power_d_t_4 = 0.0\n",
      "discharging_power_d_t_5 = 0.0\n",
      "discharging_power_d_t_6 = 0.0\n",
      "discharging_power_d_t_7 = 0.0\n",
      "discharging_power_d_t_8 = 0.0\n",
      "discharging_power_d_t_9 = 0.0\n"
     ]
    }
   ],
   "source": [
    "for variable in my_lp_problem_2.variables():\n",
    "    print(\"{} = {}\").format(variable.name, variable.varValue)"
   ]
  },
  {
   "cell_type": "markdown",
   "metadata": {},
   "source": [
    "Here is the profit in \\$ for the 24 hour period, assuming I've got all the units right. (adjust \\$/MWh to \\$/kWh)"
   ]
  },
  {
   "cell_type": "code",
   "execution_count": 239,
   "metadata": {
    "collapsed": false
   },
   "outputs": [
    {
     "data": {
      "text/plain": [
       "1.3547826667755067"
      ]
     },
     "execution_count": 239,
     "metadata": {},
     "output_type": "execute_result"
    }
   ],
   "source": [
    "pulp.value(my_lp_problem_2.objective)/1000"
   ]
  },
  {
   "cell_type": "markdown",
   "metadata": {},
   "source": [
    "What about the battery's state of power during each hour?"
   ]
  },
  {
   "cell_type": "code",
   "execution_count": 272,
   "metadata": {
    "collapsed": false
   },
   "outputs": [],
   "source": [
    "hourly_charges =\\\n",
    "np.array([charge[index].varValue for index in ('c_t_' + str(i) for i in range(0,24))])\n",
    "\n",
    "# hourly_charges\n",
    "\n",
    "hourly_discharges =\\\n",
    "np.array([discharge[index].varValue for index in ('d_t_' + str(i) for i in range(0,24))])"
   ]
  },
  {
   "cell_type": "code",
   "execution_count": 275,
   "metadata": {
    "collapsed": false
   },
   "outputs": [
    {
     "data": {
      "text/plain": [
       "200.0"
      ]
     },
     "execution_count": 275,
     "metadata": {},
     "output_type": "execute_result"
    }
   ],
   "source": [
    "daily_throughput = sum(hourly_charges) + sum(hourly_discharges)\n",
    "daily_throughput"
   ]
  },
  {
   "cell_type": "markdown",
   "metadata": {},
   "source": [
    "The operational strategy has used the battery so as to reach its maximum daily throughput; it is \"playing the market\" to the extent of system limitations.\n",
    "\n",
    "From examining the optimal solution above, I can see that the battery is not always (dis)charging at it's maximum rate, or to a completely charged or discharged state, at each time step, as claimed in (reference). However here there is the additional constraint of maximum daily throughput, so this problem is not the same. This result indicates that the optimized operation pushes up against the batteries technical limitations, which is a similar kind of result.\n",
    "\n",
    "Now use the charge and discharge flows to calculate hourly state of energy."
   ]
  },
  {
   "cell_type": "code",
   "execution_count": 306,
   "metadata": {
    "collapsed": false
   },
   "outputs": [],
   "source": [
    "net_hourly_activity = hourly_charges*efficiency - hourly_discharges"
   ]
  },
  {
   "cell_type": "code",
   "execution_count": 307,
   "metadata": {
    "collapsed": true
   },
   "outputs": [],
   "source": [
    "cumulative_hourly_activity = np.cumsum(net_hourly_activity)"
   ]
  },
  {
   "cell_type": "markdown",
   "metadata": {},
   "source": [
    "This gives the state of energy at the end of each hour (i.e. the state of energy starting at 1pm today, through 12pm tomorrow)."
   ]
  },
  {
   "cell_type": "code",
   "execution_count": 308,
   "metadata": {
    "collapsed": false
   },
   "outputs": [
    {
     "data": {
      "text/plain": [
       "array([  1.00000000e+02,   1.00000000e+02,   1.00000000e+02,\n",
       "         1.00000000e+02,   1.00000000e+02,   1.00000000e+02,\n",
       "         1.00000000e+02,   1.00000000e+02,   1.00000000e+02,\n",
       "         1.00000000e+02,   1.00000000e+02,   1.00000000e+02,\n",
       "         1.00000000e+02,   5.40540540e+01,   5.40540540e+01,\n",
       "         5.40540540e+01,   5.40540540e+01,   9.99999999e+01,\n",
       "         9.99999999e+01,   9.99999999e+01,   9.99999999e+01,\n",
       "        -9.99999941e-08,  -9.99999941e-08,  -9.99999941e-08])"
      ]
     },
     "execution_count": 308,
     "metadata": {},
     "output_type": "execute_result"
    }
   ],
   "source": [
    "state_of_energy_from_t2 = initial_level + cumulative_hourly_activity\n",
    "state_of_energy_from_t2"
   ]
  },
  {
   "cell_type": "markdown",
   "metadata": {},
   "source": [
    "Prepend the initial state to start at t1 (noon today)."
   ]
  },
  {
   "cell_type": "code",
   "execution_count": 309,
   "metadata": {
    "collapsed": false
   },
   "outputs": [
    {
     "data": {
      "text/plain": [
       "array([  1.00000000e+02,   1.00000000e+02,   1.00000000e+02,\n",
       "         1.00000000e+02,   1.00000000e+02,   1.00000000e+02,\n",
       "         1.00000000e+02,   1.00000000e+02,   1.00000000e+02,\n",
       "         1.00000000e+02,   1.00000000e+02,   1.00000000e+02,\n",
       "         1.00000000e+02,   1.00000000e+02,   5.40540540e+01,\n",
       "         5.40540540e+01,   5.40540540e+01,   5.40540540e+01,\n",
       "         9.99999999e+01,   9.99999999e+01,   9.99999999e+01,\n",
       "         9.99999999e+01,  -9.99999941e-08,  -9.99999941e-08,\n",
       "        -9.99999941e-08])"
      ]
     },
     "execution_count": 309,
     "metadata": {},
     "output_type": "execute_result"
    }
   ],
   "source": [
    "hourly_state_of_energy = \\\n",
    "np.insert(state_of_energy_from_t2, 0, np.float(initial_level))\n",
    "hourly_state_of_energy"
   ]
  },
  {
   "cell_type": "markdown",
   "metadata": {},
   "source": [
    "Plot the hourly price and state of energy, do they make sense? This plot will show hourly state of energy with linear changes between hours, assuming the battery is charging or discharging at an even rate within each hour, as well as hourly prices which remain constant over each hour.\n",
    "\n",
    "Help from http://thomas-cokelaer.info/blog/2012/04/481/, https://matplotlib.org/users/legend_guide.html"
   ]
  },
  {
   "cell_type": "code",
   "execution_count": 310,
   "metadata": {
    "collapsed": false
   },
   "outputs": [
    {
     "data": {
      "text/plain": [
       "<matplotlib.legend.Legend at 0x10ea9e990>"
      ]
     },
     "execution_count": 310,
     "metadata": {},
     "output_type": "execute_result"
    },
    {
     "data": {
      "image/png": "[encoded data removed]",
      "text/plain": [
       "<matplotlib.figure.Figure at 0x10eb281d0>"
      ]
     },
     "metadata": {},
     "output_type": "display_data"
    }
   ],
   "source": [
    "fig1 = plt.figure()\n",
    "ax1 = fig1.add_subplot(111)\n",
    "line1 = ax1.plot(range(0,25), hourly_state_of_energy, 'bo-')\n",
    "plt.ylabel(\"kWh\")\n",
    "\n",
    "ax2 = fig1.add_subplot(111, sharex=ax1, frameon=False)\n",
    "line2 = ax2.step(range(0,24), rand_prices, 'rx--', where='post')\n",
    "ax2.yaxis.tick_right()\n",
    "ax2.yaxis.set_label_position(\"right\")\n",
    "plt.ylabel(\"$/MWh\")\n",
    "\n",
    "# plt.legend((line1, line2), (\"State of energy\", ))\n",
    "\n",
    "blue_patch = mpatches.Patch(color='blue', label=\"Battery state of energy\")\n",
    "red_patch = mpatches.Patch(color='red', label=\"Price of energy\")\n",
    "plt.legend(handles=[blue_patch, red_patch], loc=(0.3, 1.05))"
   ]
  },
  {
   "cell_type": "markdown",
   "metadata": {},
   "source": [
    "Overall, the implementation appears to work. Although this price data was randomly generated and is probably unrealistic, we can see that operation follows the strategy of \"buy low, sell high\": charge when prices are low, discharge when prices are high.\n",
    "\n",
    "While the battery never charged to its maximum capacity, it did charge and discharge enough to reach the maximum daily throughput.\n",
    "\n",
    "In the implementation on real data, this would represent the first day of operation. The last data point for the battery state of energy represents the initial level for the next day."
   ]
  },
  {
   "cell_type": "code",
   "execution_count": null,
   "metadata": {
    "collapsed": true
   },
   "outputs": [],
   "source": []
  }
 ],
 "metadata": {
  "kernelspec": {
   "display_name": "Python 2",
   "language": "python",
   "name": "python2"
  },
  "language_info": {
   "codemirror_mode": {
    "name": "ipython",
    "version": 2
   },
   "file_extension": ".py",
   "mimetype": "text/x-python",
   "name": "python",
   "nbconvert_exporter": "python",
   "pygments_lexer": "ipython2",
   "version": "2.7.13"
  }
 },
 "nbformat": 4,
 "nbformat_minor": 2
}
